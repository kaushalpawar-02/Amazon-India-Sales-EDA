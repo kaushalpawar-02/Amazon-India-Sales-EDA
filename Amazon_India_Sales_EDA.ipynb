{
 "cells": [
  {
   "cell_type": "markdown",
   "id": "15a2fb9b-566a-4e09-b574-69b13b7fd1af",
   "metadata": {},
   "source": [
    "# Amazon India Sales EDA"
   ]
  },
  {
   "cell_type": "markdown",
   "id": "a7be2958-bbf4-427f-a944-dcd09512e84f",
   "metadata": {},
   "source": [
    "## Importing Libraries"
   ]
  },
  {
   "cell_type": "code",
   "execution_count": 1,
   "id": "fc8df564-9f20-4fac-97af-cccbf83f68ac",
   "metadata": {},
   "outputs": [],
   "source": [
    "import numpy as np\n",
    "import pandas as pd\n",
    "import matplotlib.pyplot as plt\n",
    "import seaborn as sns"
   ]
  },
  {
   "cell_type": "markdown",
   "id": "b36adf95-2f6a-4e21-a822-fbed01386a89",
   "metadata": {},
   "source": [
    "## Loading Dataset"
   ]
  },
  {
   "cell_type": "code",
   "execution_count": 2,
   "id": "878c1654-ce59-4118-961e-78dc99264257",
   "metadata": {},
   "outputs": [],
   "source": [
    "df_domestic = pd.read_csv('Raw Amazon Sale Report.csv',index_col=0,low_memory=False)"
   ]
  },
  {
   "cell_type": "markdown",
   "id": "8beee172-8275-429d-bd6e-f52ca60df185",
   "metadata": {},
   "source": [
    "## Exploring Dataset"
   ]
  },
  {
   "cell_type": "code",
   "execution_count": 3,
   "id": "dd045739-d396-4f7a-ae21-ae6a8cbb7fab",
   "metadata": {},
   "outputs": [
    {
     "data": {
      "text/html": [
       "<div>\n",
       "<style scoped>\n",
       "    .dataframe tbody tr th:only-of-type {\n",
       "        vertical-align: middle;\n",
       "    }\n",
       "\n",
       "    .dataframe tbody tr th {\n",
       "        vertical-align: top;\n",
       "    }\n",
       "\n",
       "    .dataframe thead th {\n",
       "        text-align: right;\n",
       "    }\n",
       "</style>\n",
       "<table border=\"1\" class=\"dataframe\">\n",
       "  <thead>\n",
       "    <tr style=\"text-align: right;\">\n",
       "      <th></th>\n",
       "      <th>Order ID</th>\n",
       "      <th>Date</th>\n",
       "      <th>Status</th>\n",
       "      <th>Fulfilment</th>\n",
       "      <th>Sales Channel</th>\n",
       "      <th>ship-service-level</th>\n",
       "      <th>Style</th>\n",
       "      <th>SKU</th>\n",
       "      <th>Category</th>\n",
       "      <th>Size</th>\n",
       "      <th>...</th>\n",
       "      <th>currency</th>\n",
       "      <th>Amount</th>\n",
       "      <th>ship-city</th>\n",
       "      <th>ship-state</th>\n",
       "      <th>ship-postal-code</th>\n",
       "      <th>ship-country</th>\n",
       "      <th>promotion-ids</th>\n",
       "      <th>B2B</th>\n",
       "      <th>fulfilled-by</th>\n",
       "      <th>Unnamed: 22</th>\n",
       "    </tr>\n",
       "    <tr>\n",
       "      <th>index</th>\n",
       "      <th></th>\n",
       "      <th></th>\n",
       "      <th></th>\n",
       "      <th></th>\n",
       "      <th></th>\n",
       "      <th></th>\n",
       "      <th></th>\n",
       "      <th></th>\n",
       "      <th></th>\n",
       "      <th></th>\n",
       "      <th></th>\n",
       "      <th></th>\n",
       "      <th></th>\n",
       "      <th></th>\n",
       "      <th></th>\n",
       "      <th></th>\n",
       "      <th></th>\n",
       "      <th></th>\n",
       "      <th></th>\n",
       "      <th></th>\n",
       "      <th></th>\n",
       "    </tr>\n",
       "  </thead>\n",
       "  <tbody>\n",
       "    <tr>\n",
       "      <th>0</th>\n",
       "      <td>405-8078784-5731545</td>\n",
       "      <td>04-30-22</td>\n",
       "      <td>Cancelled</td>\n",
       "      <td>Merchant</td>\n",
       "      <td>Amazon.in</td>\n",
       "      <td>Standard</td>\n",
       "      <td>SET389</td>\n",
       "      <td>SET389-KR-NP-S</td>\n",
       "      <td>Set</td>\n",
       "      <td>S</td>\n",
       "      <td>...</td>\n",
       "      <td>INR</td>\n",
       "      <td>647.62</td>\n",
       "      <td>MUMBAI</td>\n",
       "      <td>MAHARASHTRA</td>\n",
       "      <td>400081.0</td>\n",
       "      <td>IN</td>\n",
       "      <td>NaN</td>\n",
       "      <td>False</td>\n",
       "      <td>Easy Ship</td>\n",
       "      <td>NaN</td>\n",
       "    </tr>\n",
       "    <tr>\n",
       "      <th>1</th>\n",
       "      <td>171-9198151-1101146</td>\n",
       "      <td>04-30-22</td>\n",
       "      <td>Shipped - Delivered to Buyer</td>\n",
       "      <td>Merchant</td>\n",
       "      <td>Amazon.in</td>\n",
       "      <td>Standard</td>\n",
       "      <td>JNE3781</td>\n",
       "      <td>JNE3781-KR-XXXL</td>\n",
       "      <td>kurta</td>\n",
       "      <td>3XL</td>\n",
       "      <td>...</td>\n",
       "      <td>INR</td>\n",
       "      <td>406.00</td>\n",
       "      <td>BENGALURU</td>\n",
       "      <td>KARNATAKA</td>\n",
       "      <td>560085.0</td>\n",
       "      <td>IN</td>\n",
       "      <td>Amazon PLCC Free-Financing Universal Merchant ...</td>\n",
       "      <td>False</td>\n",
       "      <td>Easy Ship</td>\n",
       "      <td>NaN</td>\n",
       "    </tr>\n",
       "    <tr>\n",
       "      <th>2</th>\n",
       "      <td>404-0687676-7273146</td>\n",
       "      <td>04-30-22</td>\n",
       "      <td>Shipped</td>\n",
       "      <td>Amazon</td>\n",
       "      <td>Amazon.in</td>\n",
       "      <td>Expedited</td>\n",
       "      <td>JNE3371</td>\n",
       "      <td>JNE3371-KR-XL</td>\n",
       "      <td>kurta</td>\n",
       "      <td>XL</td>\n",
       "      <td>...</td>\n",
       "      <td>INR</td>\n",
       "      <td>329.00</td>\n",
       "      <td>NAVI MUMBAI</td>\n",
       "      <td>MAHARASHTRA</td>\n",
       "      <td>410210.0</td>\n",
       "      <td>IN</td>\n",
       "      <td>IN Core Free Shipping 2015/04/08 23-48-5-108</td>\n",
       "      <td>True</td>\n",
       "      <td>NaN</td>\n",
       "      <td>NaN</td>\n",
       "    </tr>\n",
       "    <tr>\n",
       "      <th>3</th>\n",
       "      <td>403-9615377-8133951</td>\n",
       "      <td>04-30-22</td>\n",
       "      <td>Cancelled</td>\n",
       "      <td>Merchant</td>\n",
       "      <td>Amazon.in</td>\n",
       "      <td>Standard</td>\n",
       "      <td>J0341</td>\n",
       "      <td>J0341-DR-L</td>\n",
       "      <td>Western Dress</td>\n",
       "      <td>L</td>\n",
       "      <td>...</td>\n",
       "      <td>INR</td>\n",
       "      <td>753.33</td>\n",
       "      <td>PUDUCHERRY</td>\n",
       "      <td>PUDUCHERRY</td>\n",
       "      <td>605008.0</td>\n",
       "      <td>IN</td>\n",
       "      <td>NaN</td>\n",
       "      <td>False</td>\n",
       "      <td>Easy Ship</td>\n",
       "      <td>NaN</td>\n",
       "    </tr>\n",
       "    <tr>\n",
       "      <th>4</th>\n",
       "      <td>407-1069790-7240320</td>\n",
       "      <td>04-30-22</td>\n",
       "      <td>Shipped</td>\n",
       "      <td>Amazon</td>\n",
       "      <td>Amazon.in</td>\n",
       "      <td>Expedited</td>\n",
       "      <td>JNE3671</td>\n",
       "      <td>JNE3671-TU-XXXL</td>\n",
       "      <td>Top</td>\n",
       "      <td>3XL</td>\n",
       "      <td>...</td>\n",
       "      <td>INR</td>\n",
       "      <td>574.00</td>\n",
       "      <td>CHENNAI</td>\n",
       "      <td>TAMIL NADU</td>\n",
       "      <td>600073.0</td>\n",
       "      <td>IN</td>\n",
       "      <td>NaN</td>\n",
       "      <td>False</td>\n",
       "      <td>NaN</td>\n",
       "      <td>NaN</td>\n",
       "    </tr>\n",
       "  </tbody>\n",
       "</table>\n",
       "<p>5 rows × 23 columns</p>\n",
       "</div>"
      ],
      "text/plain": [
       "                  Order ID      Date                        Status Fulfilment  \\\n",
       "index                                                                           \n",
       "0      405-8078784-5731545  04-30-22                     Cancelled   Merchant   \n",
       "1      171-9198151-1101146  04-30-22  Shipped - Delivered to Buyer   Merchant   \n",
       "2      404-0687676-7273146  04-30-22                       Shipped     Amazon   \n",
       "3      403-9615377-8133951  04-30-22                     Cancelled   Merchant   \n",
       "4      407-1069790-7240320  04-30-22                       Shipped     Amazon   \n",
       "\n",
       "      Sales Channel  ship-service-level    Style              SKU  \\\n",
       "index                                                               \n",
       "0          Amazon.in           Standard   SET389   SET389-KR-NP-S   \n",
       "1          Amazon.in           Standard  JNE3781  JNE3781-KR-XXXL   \n",
       "2          Amazon.in          Expedited  JNE3371    JNE3371-KR-XL   \n",
       "3          Amazon.in           Standard    J0341       J0341-DR-L   \n",
       "4          Amazon.in          Expedited  JNE3671  JNE3671-TU-XXXL   \n",
       "\n",
       "            Category Size  ... currency  Amount    ship-city   ship-state  \\\n",
       "index                      ...                                              \n",
       "0                Set    S  ...      INR  647.62       MUMBAI  MAHARASHTRA   \n",
       "1              kurta  3XL  ...      INR  406.00    BENGALURU    KARNATAKA   \n",
       "2              kurta   XL  ...      INR  329.00  NAVI MUMBAI  MAHARASHTRA   \n",
       "3      Western Dress    L  ...      INR  753.33   PUDUCHERRY   PUDUCHERRY   \n",
       "4                Top  3XL  ...      INR  574.00      CHENNAI   TAMIL NADU   \n",
       "\n",
       "       ship-postal-code ship-country  \\\n",
       "index                                  \n",
       "0              400081.0           IN   \n",
       "1              560085.0           IN   \n",
       "2              410210.0           IN   \n",
       "3              605008.0           IN   \n",
       "4              600073.0           IN   \n",
       "\n",
       "                                           promotion-ids    B2B fulfilled-by  \\\n",
       "index                                                                          \n",
       "0                                                    NaN  False    Easy Ship   \n",
       "1      Amazon PLCC Free-Financing Universal Merchant ...  False    Easy Ship   \n",
       "2           IN Core Free Shipping 2015/04/08 23-48-5-108   True          NaN   \n",
       "3                                                    NaN  False    Easy Ship   \n",
       "4                                                    NaN  False          NaN   \n",
       "\n",
       "      Unnamed: 22  \n",
       "index              \n",
       "0             NaN  \n",
       "1             NaN  \n",
       "2             NaN  \n",
       "3             NaN  \n",
       "4             NaN  \n",
       "\n",
       "[5 rows x 23 columns]"
      ]
     },
     "execution_count": 3,
     "metadata": {},
     "output_type": "execute_result"
    }
   ],
   "source": [
    "df_domestic.head()"
   ]
  },
  {
   "cell_type": "code",
   "execution_count": 4,
   "id": "13e7a2f1-4e1c-40ce-8dfb-90ab5e288ef7",
   "metadata": {},
   "outputs": [
    {
     "data": {
      "text/plain": [
       "(128975, 23)"
      ]
     },
     "execution_count": 4,
     "metadata": {},
     "output_type": "execute_result"
    }
   ],
   "source": [
    "df_domestic.shape"
   ]
  },
  {
   "cell_type": "code",
   "execution_count": 5,
   "id": "9f55bce9-e2b1-4ed5-9d69-6063802d60f1",
   "metadata": {},
   "outputs": [
    {
     "data": {
      "text/plain": [
       "Index(['Order ID', 'Date', 'Status', 'Fulfilment', 'Sales Channel ',\n",
       "       'ship-service-level', 'Style', 'SKU', 'Category', 'Size', 'ASIN',\n",
       "       'Courier Status', 'Qty', 'currency', 'Amount', 'ship-city',\n",
       "       'ship-state', 'ship-postal-code', 'ship-country', 'promotion-ids',\n",
       "       'B2B', 'fulfilled-by', 'Unnamed: 22'],\n",
       "      dtype='object')"
      ]
     },
     "execution_count": 5,
     "metadata": {},
     "output_type": "execute_result"
    }
   ],
   "source": [
    "df_domestic.columns"
   ]
  },
  {
   "cell_type": "code",
   "execution_count": 6,
   "id": "01f72bb1-3fc4-458a-b658-6fd1ef613557",
   "metadata": {},
   "outputs": [
    {
     "name": "stdout",
     "output_type": "stream",
     "text": [
      "<class 'pandas.core.frame.DataFrame'>\n",
      "Index: 128975 entries, 0 to 128974\n",
      "Data columns (total 23 columns):\n",
      " #   Column              Non-Null Count   Dtype  \n",
      "---  ------              --------------   -----  \n",
      " 0   Order ID            128975 non-null  object \n",
      " 1   Date                128975 non-null  object \n",
      " 2   Status              128975 non-null  object \n",
      " 3   Fulfilment          128975 non-null  object \n",
      " 4   Sales Channel       128975 non-null  object \n",
      " 5   ship-service-level  128975 non-null  object \n",
      " 6   Style               128975 non-null  object \n",
      " 7   SKU                 128975 non-null  object \n",
      " 8   Category            128975 non-null  object \n",
      " 9   Size                128975 non-null  object \n",
      " 10  ASIN                128975 non-null  object \n",
      " 11  Courier Status      122103 non-null  object \n",
      " 12  Qty                 128975 non-null  int64  \n",
      " 13  currency            121180 non-null  object \n",
      " 14  Amount              121180 non-null  float64\n",
      " 15  ship-city           128942 non-null  object \n",
      " 16  ship-state          128942 non-null  object \n",
      " 17  ship-postal-code    128942 non-null  float64\n",
      " 18  ship-country        128942 non-null  object \n",
      " 19  promotion-ids       79822 non-null   object \n",
      " 20  B2B                 128975 non-null  bool   \n",
      " 21  fulfilled-by        39277 non-null   object \n",
      " 22  Unnamed: 22         79925 non-null   object \n",
      "dtypes: bool(1), float64(2), int64(1), object(19)\n",
      "memory usage: 22.8+ MB\n"
     ]
    }
   ],
   "source": [
    "df_domestic.info()"
   ]
  },
  {
   "cell_type": "markdown",
   "id": "7e90a4e2-fa62-493d-877b-caa00d89c6fd",
   "metadata": {},
   "source": [
    "## Clening Dataset"
   ]
  },
  {
   "cell_type": "code",
   "execution_count": 7,
   "id": "16ce7b36-7393-42ff-8bf9-5748a1bffd8a",
   "metadata": {},
   "outputs": [],
   "source": [
    "df_domestic.drop(columns='Unnamed: 22', inplace = True) #Empty Feature"
   ]
  },
  {
   "cell_type": "code",
   "execution_count": 8,
   "id": "7d31afd6-38b9-42f7-a4f4-3e3294cf7e48",
   "metadata": {},
   "outputs": [
    {
     "name": "stdout",
     "output_type": "stream",
     "text": [
      "promotion-ids    38.110487\n",
      "fulfilled-by     69.546811\n",
      "dtype: float64\n"
     ]
    }
   ],
   "source": [
    "# Percentage of missing values\n",
    "missing = df_domestic[['promotion-ids', 'fulfilled-by']].isnull().mean() * 100\n",
    "print(missing)"
   ]
  },
  {
   "cell_type": "code",
   "execution_count": 9,
   "id": "5433e0f5-7567-489e-ab1a-4a466ca35ebf",
   "metadata": {},
   "outputs": [],
   "source": [
    "# Almost 70% values from 'fulfilled-by' column are missing."
   ]
  },
  {
   "cell_type": "code",
   "execution_count": 10,
   "id": "6f9d361c-1fde-4eaf-b29d-3b71ecc5e732",
   "metadata": {},
   "outputs": [],
   "source": [
    "df_domestic.drop(columns='fulfilled-by', inplace = True)"
   ]
  },
  {
   "cell_type": "code",
   "execution_count": 11,
   "id": "c8520b02-54bc-4713-a365-df597b6b8a96",
   "metadata": {
    "scrolled": true
   },
   "outputs": [
    {
     "data": {
      "text/plain": [
       "promotion-ids\n",
       "IN Core Free Shipping 2015/04/08 23-48-5-108                                                                                                                                                                                                                                                                                                                                                                                                                                                                                                                                                                                                                                                                                                                                                                                                                                                                                                                                                                                                                                                                                                                                                                                                                                                                                                     46100\n",
       "Duplicated A12RHGVGRWOT3S 1560498941486                                                                                                                                                                                                                                                                                                                                                                                                                                                                                                                                                                                                                                                                                                                                                                                                                                                                                                                                                                                                                                                                                                                                                                                                                                                                                                            489\n",
       "Amazon PLCC Free-Financing Universal Merchant AAT-WNKTBO3K27EJC,Amazon PLCC Free-Financing Universal Merchant AAT-QX3UCCJESKPA2,Amazon PLCC Free-Financing Universal Merchant AAT-CXJHMC2YJUK76,Amazon PLCC Free-Financing Universal Merchant AAT-CC4FAVTYR4X7C,Amazon PLCC Free-Financing Universal Merchant AAT-XXRCW6NZEPZI4,Amazon PLCC Free-Financing Universal Merchant AAT-EOKPWFWYW7Y6I,Amazon PLCC Free-Financing Universal Merchant AAT-ZYL5UPUNW6T62,Amazon PLCC Free-Financing Universal Merchant AAT-G5ZRX4BZOIODU,Amazon PLCC Free-Financing Universal Merchant AAT-PZHUW6DZX4BPS,Amazon PLCC Free-Financing Universal Merchant AAT-XX7G3ZRJJJ5LG,Amazon PLCC Free-Financing Universal Merchant AAT-LEHCKNDBJG64E,Amazon PLCC Free-Financing Universal Merchant AAT-DJVHCEV7D7RQY,Amazon PLCC Free-Financing Universal Merchant AAT-BRSZZ45H6MHAO,Amazon PLCC Free-Financing Universal Merchant AAT-MKLXOOZWQL7GO,Amazon PLCC Free-Financing Universal Merchant AAT-CB7UNXEXGIJTC,Amazon PLCC Free-Financing Universal Merchant #MP-gzasho-1593152694811,Amazon PLCC Free-Financing Universal Merchant AAT-WLBA4GZ52EAH4                                                                                                                                                                                                             458\n",
       "Duplicated AYTJSBA8ZOP16 1567159860988                                                                                                                                                                                                                                                                                                                                                                                                                                                                                                                                                                                                                                                                                                                                                                                                                                                                                                                                                                                                                                                                                                                                                                                                                                                                                                             433\n",
       "Amazon PLCC Free-Financing Universal Merchant AAT-WNKTBO3K27EJC,Amazon PLCC Free-Financing Universal Merchant AAT-QX3UCCJESKPA2,Amazon PLCC Free-Financing Universal Merchant AAT-5QQ7BIYYQEDN2,Amazon PLCC Free-Financing Universal Merchant AAT-DSJ2QRXXWXVMQ,Amazon PLCC Free-Financing Universal Merchant AAT-CXJHMC2YJUK76,Amazon PLCC Free-Financing Universal Merchant AAT-CC4FAVTYR4X7C,Amazon PLCC Free-Financing Universal Merchant AAT-XXRCW6NZEPZI4,Amazon PLCC Free-Financing Universal Merchant AAT-EOKPWFWYW7Y6I,Amazon PLCC Free-Financing Universal Merchant AAT-ZYL5UPUNW6T62,Amazon PLCC Free-Financing Universal Merchant AAT-G5ZRX4BZOIODU,Amazon PLCC Free-Financing Universal Merchant AAT-PZHUW6DZX4BPS,Amazon PLCC Free-Financing Universal Merchant AAT-ETXQ3XXWMRXBG,Amazon PLCC Free-Financing Universal Merchant AAT-BRSZZ45H6MHAO,Amazon PLCC Free-Financing Universal Merchant AAT-MKLXOOZWQL7GO,Amazon PLCC Free-Financing Universal Merchant AAT-CB7UNXEXGIJTC,Amazon PLCC Free-Financing Universal Merchant #MP-gzasho-1593152694811,Amazon PLCC Free-Financing Universal Merchant AAT-WLBA4GZ52EAH4                                                                                                                                                                                                             316\n",
       "                                                                                                                                                                                                                                                                                                                                                                                                                                                                                                                                                                                                                                                                                                                                                                                                                                                                                                                                                                                                                                                                                                                                                                                                                                                                                                                                                 ...  \n",
       "Amazon PLCC Free-Financing Universal Merchant AAT-WNKTBO3K27EJC,Amazon PLCC Free-Financing Universal Merchant AAT-QX3UCCJESKPA2,Amazon PLCC Free-Financing Universal Merchant AAT-5QQ7BIYYQEDN2,Amazon PLCC Free-Financing Universal Merchant AAT-DSJ2QRXXWXVMQ,Amazon PLCC Free-Financing Universal Merchant AAT-CXJHMC2YJUK76,Amazon PLCC Free-Financing Universal Merchant AAT-SL3Y2YRMAUNFC,Amazon PLCC Free-Financing Universal Merchant AAT-CC4FAVTYR4X7C,Amazon PLCC Free-Financing Universal Merchant AAT-EWAPBB6BDRGM6,Amazon PLCC Free-Financing Universal Merchant AAT-R7GXNZWISTRFA,Amazon PLCC Free-Financing Universal Merchant AAT-EOKPWFWYW7Y6I,Amazon PLCC Free-Financing Universal Merchant AAT-ME7D3ZA4R4KII,Amazon PLCC Free-Financing Universal Merchant AAT-5SHH3G55USK5C,Amazon PLCC Free-Financing Universal Merchant AAT-TNYBHEAO7HOHO,Amazon PLCC Free-Financing Universal Merchant AAT-BRSZZ45H6MHAO,Amazon PLCC Free-Financing Universal Merchant AAT-MKLXOOZWQL7GO,Amazon PLCC Free-Financing Universal Merchant AAT-CB7UNXEXGIJTC,Amazon PLCC Free-Financing Universal Merchant #MP-gzasho-1593152694811,Amazon PLCC Free-Financing Universal Merchant AAT-WLBA4GZ52EAH4,Amazon PLCC Free-Financing Universal Merchant AAT-QMFZ3M7T5NPDS,Amazon PLCC Free-Financing Universal Merchant #MP-pmilan-1601980554292        1\n",
       "Amazon PLCC Free-Financing Universal Merchant AAT-WNKTBO3K27EJC,Amazon PLCC Free-Financing Universal Merchant AAT-QX3UCCJESKPA2,Amazon PLCC Free-Financing Universal Merchant AAT-5QQ7BIYYQEDN2,Amazon PLCC Free-Financing Universal Merchant AAT-DSJ2QRXXWXVMQ,Amazon PLCC Free-Financing Universal Merchant AAT-CXJHMC2YJUK76,Amazon PLCC Free-Financing Universal Merchant AAT-CC4FAVTYR4X7C,Amazon PLCC Free-Financing Universal Merchant AAT-EWAPBB6BDRGM6,Amazon PLCC Free-Financing Universal Merchant AAT-EOKPWFWYW7Y6I,Amazon PLCC Free-Financing Universal Merchant AAT-3CSO6PTXOFDTO,Amazon PLCC Free-Financing Universal Merchant AAT-NT3ZJJGQ3JK3Q,Amazon PLCC Free-Financing Universal Merchant AAT-BRSZZ45H6MHAO,Amazon PLCC Free-Financing Universal Merchant AAT-MKLXOOZWQL7GO,Amazon PLCC Free-Financing Universal Merchant AAT-CB7UNXEXGIJTC,Amazon PLCC Free-Financing Universal Merchant #MP-gzasho-1593152694811,Amazon PLCC Free-Financing Universal Merchant AAT-WLBA4GZ52EAH4                                                                                                                                                                                                                                                                                                                                               1\n",
       "Amazon PLCC Free-Financing Universal Merchant AAT-WNKTBO3K27EJC,Amazon PLCC Free-Financing Universal Merchant AAT-QX3UCCJESKPA2,Amazon PLCC Free-Financing Universal Merchant AAT-5QQ7BIYYQEDN2,Amazon PLCC Free-Financing Universal Merchant AAT-DSJ2QRXXWXVMQ,Amazon PLCC Free-Financing Universal Merchant AAT-CXJHMC2YJUK76,Amazon PLCC Free-Financing Universal Merchant AAT-SL3Y2YRMAUNFC,Amazon PLCC Free-Financing Universal Merchant AAT-CC4FAVTYR4X7C,Amazon PLCC Free-Financing Universal Merchant AAT-EWAPBB6BDRGM6,Amazon PLCC Free-Financing Universal Merchant AAT-R7GXNZWISTRFA,Amazon PLCC Free-Financing Universal Merchant AAT-EOKPWFWYW7Y6I,Amazon PLCC Free-Financing Universal Merchant AAT-TNYBHEAO7HOHO,Amazon PLCC Free-Financing Universal Merchant AAT-BRSZZ45H6MHAO,Amazon PLCC Free-Financing Universal Merchant AAT-MKLXOOZWQL7GO,Amazon PLCC Free-Financing Universal Merchant AAT-CB7UNXEXGIJTC,Amazon PLCC Free-Financing Universal Merchant #MP-gzasho-1593152694811,Amazon PLCC Free-Financing Universal Merchant AAT-WLBA4GZ52EAH4,Amazon PLCC Free-Financing Universal Merchant AAT-QMFZ3M7T5NPDS,Amazon PLCC Free-Financing Universal Merchant #MP-pmilan-1601980554292                                                                                                                                        1\n",
       "Amazon PLCC Free-Financing Universal Merchant AAT-WNKTBO3K27EJC,Amazon PLCC Free-Financing Universal Merchant AAT-QX3UCCJESKPA2,Amazon PLCC Free-Financing Universal Merchant AAT-5QQ7BIYYQEDN2,Amazon PLCC Free-Financing Universal Merchant AAT-DSJ2QRXXWXVMQ,Amazon PLCC Free-Financing Universal Merchant AAT-CXJHMC2YJUK76,Amazon PLCC Free-Financing Universal Merchant AAT-SL3Y2YRMAUNFC,Amazon PLCC Free-Financing Universal Merchant AAT-CC4FAVTYR4X7C,Amazon PLCC Free-Financing Universal Merchant SS-1640596961008,Amazon PLCC Free-Financing Universal Merchant AAT-EWAPBB6BDRGM6,Amazon PLCC Free-Financing Universal Merchant AAT-EOKPWFWYW7Y6I,Amazon PLCC Free-Financing Universal Merchant AAT-ME7D3ZA4R4KII,Amazon PLCC Free-Financing Universal Merchant AAT-6VIAPZUTINOWE,Amazon PLCC Free-Financing Universal Merchant AAT-TNYBHEAO7HOHO,Amazon PLCC Free-Financing Universal Merchant AAT-BRSZZ45H6MHAO,Amazon PLCC Free-Financing Universal Merchant AAT-MKLXOOZWQL7GO,Amazon PLCC Free-Financing Universal Merchant AAT-CB7UNXEXGIJTC,Amazon PLCC Free-Financing Universal Merchant #MP-gzasho-1593152694811,Amazon PLCC Free-Financing Universal Merchant AAT-WLBA4GZ52EAH4,Amazon PLCC Free-Financing Universal Merchant AAT-QMFZ3M7T5NPDS,Amazon PLCC Free-Financing Universal Merchant #MP-pmilan-1601980554292         1\n",
       "Amazon PLCC Free-Financing Universal Merchant AAT-WNKTBO3K27EJC,Amazon PLCC Free-Financing Universal Merchant AAT-QX3UCCJESKPA2,Amazon PLCC Free-Financing Universal Merchant AAT-5QQ7BIYYQEDN2,Amazon PLCC Free-Financing Universal Merchant AAT-DSJ2QRXXWXVMQ,Amazon PLCC Free-Financing Universal Merchant AAT-CXJHMC2YJUK76,Amazon PLCC Free-Financing Universal Merchant AAT-SL3Y2YRMAUNFC,Amazon PLCC Free-Financing Universal Merchant AAT-CC4FAVTYR4X7C,Amazon PLCC Free-Financing Universal Merchant AAT-EWAPBB6BDRGM6,Amazon PLCC Free-Financing Universal Merchant AAT-R7GXNZWISTRFA,Amazon PLCC Free-Financing Universal Merchant AAT-EOKPWFWYW7Y6I,Amazon PLCC Free-Financing Universal Merchant AAT-BRSZZ45H6MHAO,Amazon PLCC Free-Financing Universal Merchant AAT-MKLXOOZWQL7GO,Amazon PLCC Free-Financing Universal Merchant AAT-CB7UNXEXGIJTC,Amazon PLCC Free-Financing Universal Merchant #MP-gzasho-1593152694811,Amazon PLCC Free-Financing Universal Merchant AAT-WLBA4GZ52EAH4                                                                                                                                                                                                                                                                                                                                               1\n",
       "Name: count, Length: 5787, dtype: int64"
      ]
     },
     "execution_count": 11,
     "metadata": {},
     "output_type": "execute_result"
    }
   ],
   "source": [
    "df_domestic['promotion-ids'].value_counts()"
   ]
  },
  {
   "cell_type": "code",
   "execution_count": 12,
   "id": "fc0ad5eb-46dc-4d1a-a8ad-44c5e12b7171",
   "metadata": {},
   "outputs": [],
   "source": [
    "#'promotion-ids' column has 5787 unique values out of which most are long, unreadable strings or duplicated promo IDs. \n",
    "# There is No explainability or human-readable mapping. also 38% values are missing."
   ]
  },
  {
   "cell_type": "code",
   "execution_count": 13,
   "id": "5207b3d2-9991-4f98-abc8-00a470eb4923",
   "metadata": {},
   "outputs": [],
   "source": [
    "df_domestic.drop(columns='promotion-ids', inplace = True)"
   ]
  },
  {
   "cell_type": "code",
   "execution_count": 14,
   "id": "8dd1fbf5-d4c3-4a26-90f0-91c13ae15b48",
   "metadata": {},
   "outputs": [
    {
     "data": {
      "text/plain": [
       "(128975, 20)"
      ]
     },
     "execution_count": 14,
     "metadata": {},
     "output_type": "execute_result"
    }
   ],
   "source": [
    "df_domestic.shape"
   ]
  },
  {
   "cell_type": "code",
   "execution_count": 15,
   "id": "bd2abd02-5a97-4d9a-9de1-de0dba149b7c",
   "metadata": {},
   "outputs": [],
   "source": [
    "# Fixing Datatype of \"Date\" Column"
   ]
  },
  {
   "cell_type": "code",
   "execution_count": 16,
   "id": "67bc06ba-41a0-4588-8be2-d208c5b8a2c7",
   "metadata": {},
   "outputs": [],
   "source": [
    "df_domestic['Date'] = pd.to_datetime(df_domestic['Date'], format='%m-%d-%y', errors='coerce')"
   ]
  },
  {
   "cell_type": "code",
   "execution_count": 17,
   "id": "a045686a-8283-4e8d-b43a-0c7a31969cd1",
   "metadata": {},
   "outputs": [],
   "source": [
    "# Since we only have record of nly one day from March (31st), it doesn't contribute meaningfully to monthly or Q1 trends.\n",
    "# Hence droping March 31st to ensure analysis starts cleanly from Q2.\n",
    "\n",
    "df_domestic = df_domestic[df_domestic['Date'] >= '2022-04-01']"
   ]
  },
  {
   "cell_type": "code",
   "execution_count": 18,
   "id": "188518b2-f3b2-4e0e-8a59-a90fa8280c61",
   "metadata": {
    "scrolled": true
   },
   "outputs": [
    {
     "data": {
      "text/plain": [
       "array([], dtype=object)"
      ]
     },
     "execution_count": 18,
     "metadata": {},
     "output_type": "execute_result"
    }
   ],
   "source": [
    "df_domestic[df_domestic['Date'].dt.month == 3]['Date'].dt.date.unique()"
   ]
  },
  {
   "cell_type": "code",
   "execution_count": 19,
   "id": "a73cce58-0cff-407a-8a86-2df3c7dcd34d",
   "metadata": {},
   "outputs": [
    {
     "data": {
      "text/html": [
       "<div>\n",
       "<style scoped>\n",
       "    .dataframe tbody tr th:only-of-type {\n",
       "        vertical-align: middle;\n",
       "    }\n",
       "\n",
       "    .dataframe tbody tr th {\n",
       "        vertical-align: top;\n",
       "    }\n",
       "\n",
       "    .dataframe thead th {\n",
       "        text-align: right;\n",
       "    }\n",
       "</style>\n",
       "<table border=\"1\" class=\"dataframe\">\n",
       "  <thead>\n",
       "    <tr style=\"text-align: right;\">\n",
       "      <th></th>\n",
       "      <th>Order ID</th>\n",
       "      <th>Date</th>\n",
       "      <th>Status</th>\n",
       "      <th>Fulfilment</th>\n",
       "      <th>Sales Channel</th>\n",
       "      <th>ship-service-level</th>\n",
       "      <th>Style</th>\n",
       "      <th>SKU</th>\n",
       "      <th>Category</th>\n",
       "      <th>Size</th>\n",
       "      <th>ASIN</th>\n",
       "      <th>Courier Status</th>\n",
       "      <th>Qty</th>\n",
       "      <th>currency</th>\n",
       "      <th>Amount</th>\n",
       "      <th>ship-city</th>\n",
       "      <th>ship-state</th>\n",
       "      <th>ship-postal-code</th>\n",
       "      <th>ship-country</th>\n",
       "      <th>B2B</th>\n",
       "    </tr>\n",
       "    <tr>\n",
       "      <th>index</th>\n",
       "      <th></th>\n",
       "      <th></th>\n",
       "      <th></th>\n",
       "      <th></th>\n",
       "      <th></th>\n",
       "      <th></th>\n",
       "      <th></th>\n",
       "      <th></th>\n",
       "      <th></th>\n",
       "      <th></th>\n",
       "      <th></th>\n",
       "      <th></th>\n",
       "      <th></th>\n",
       "      <th></th>\n",
       "      <th></th>\n",
       "      <th></th>\n",
       "      <th></th>\n",
       "      <th></th>\n",
       "      <th></th>\n",
       "      <th></th>\n",
       "    </tr>\n",
       "  </thead>\n",
       "  <tbody>\n",
       "    <tr>\n",
       "      <th>0</th>\n",
       "      <td>405-8078784-5731545</td>\n",
       "      <td>2022-04-30</td>\n",
       "      <td>Cancelled</td>\n",
       "      <td>Merchant</td>\n",
       "      <td>Amazon.in</td>\n",
       "      <td>Standard</td>\n",
       "      <td>SET389</td>\n",
       "      <td>SET389-KR-NP-S</td>\n",
       "      <td>Set</td>\n",
       "      <td>S</td>\n",
       "      <td>B09KXVBD7Z</td>\n",
       "      <td>NaN</td>\n",
       "      <td>0</td>\n",
       "      <td>INR</td>\n",
       "      <td>647.62</td>\n",
       "      <td>MUMBAI</td>\n",
       "      <td>MAHARASHTRA</td>\n",
       "      <td>400081.0</td>\n",
       "      <td>IN</td>\n",
       "      <td>False</td>\n",
       "    </tr>\n",
       "    <tr>\n",
       "      <th>1</th>\n",
       "      <td>171-9198151-1101146</td>\n",
       "      <td>2022-04-30</td>\n",
       "      <td>Shipped - Delivered to Buyer</td>\n",
       "      <td>Merchant</td>\n",
       "      <td>Amazon.in</td>\n",
       "      <td>Standard</td>\n",
       "      <td>JNE3781</td>\n",
       "      <td>JNE3781-KR-XXXL</td>\n",
       "      <td>kurta</td>\n",
       "      <td>3XL</td>\n",
       "      <td>B09K3WFS32</td>\n",
       "      <td>Shipped</td>\n",
       "      <td>1</td>\n",
       "      <td>INR</td>\n",
       "      <td>406.00</td>\n",
       "      <td>BENGALURU</td>\n",
       "      <td>KARNATAKA</td>\n",
       "      <td>560085.0</td>\n",
       "      <td>IN</td>\n",
       "      <td>False</td>\n",
       "    </tr>\n",
       "    <tr>\n",
       "      <th>2</th>\n",
       "      <td>404-0687676-7273146</td>\n",
       "      <td>2022-04-30</td>\n",
       "      <td>Shipped</td>\n",
       "      <td>Amazon</td>\n",
       "      <td>Amazon.in</td>\n",
       "      <td>Expedited</td>\n",
       "      <td>JNE3371</td>\n",
       "      <td>JNE3371-KR-XL</td>\n",
       "      <td>kurta</td>\n",
       "      <td>XL</td>\n",
       "      <td>B07WV4JV4D</td>\n",
       "      <td>Shipped</td>\n",
       "      <td>1</td>\n",
       "      <td>INR</td>\n",
       "      <td>329.00</td>\n",
       "      <td>NAVI MUMBAI</td>\n",
       "      <td>MAHARASHTRA</td>\n",
       "      <td>410210.0</td>\n",
       "      <td>IN</td>\n",
       "      <td>True</td>\n",
       "    </tr>\n",
       "    <tr>\n",
       "      <th>3</th>\n",
       "      <td>403-9615377-8133951</td>\n",
       "      <td>2022-04-30</td>\n",
       "      <td>Cancelled</td>\n",
       "      <td>Merchant</td>\n",
       "      <td>Amazon.in</td>\n",
       "      <td>Standard</td>\n",
       "      <td>J0341</td>\n",
       "      <td>J0341-DR-L</td>\n",
       "      <td>Western Dress</td>\n",
       "      <td>L</td>\n",
       "      <td>B099NRCT7B</td>\n",
       "      <td>NaN</td>\n",
       "      <td>0</td>\n",
       "      <td>INR</td>\n",
       "      <td>753.33</td>\n",
       "      <td>PUDUCHERRY</td>\n",
       "      <td>PUDUCHERRY</td>\n",
       "      <td>605008.0</td>\n",
       "      <td>IN</td>\n",
       "      <td>False</td>\n",
       "    </tr>\n",
       "    <tr>\n",
       "      <th>4</th>\n",
       "      <td>407-1069790-7240320</td>\n",
       "      <td>2022-04-30</td>\n",
       "      <td>Shipped</td>\n",
       "      <td>Amazon</td>\n",
       "      <td>Amazon.in</td>\n",
       "      <td>Expedited</td>\n",
       "      <td>JNE3671</td>\n",
       "      <td>JNE3671-TU-XXXL</td>\n",
       "      <td>Top</td>\n",
       "      <td>3XL</td>\n",
       "      <td>B098714BZP</td>\n",
       "      <td>Shipped</td>\n",
       "      <td>1</td>\n",
       "      <td>INR</td>\n",
       "      <td>574.00</td>\n",
       "      <td>CHENNAI</td>\n",
       "      <td>TAMIL NADU</td>\n",
       "      <td>600073.0</td>\n",
       "      <td>IN</td>\n",
       "      <td>False</td>\n",
       "    </tr>\n",
       "  </tbody>\n",
       "</table>\n",
       "</div>"
      ],
      "text/plain": [
       "                  Order ID       Date                        Status  \\\n",
       "index                                                                 \n",
       "0      405-8078784-5731545 2022-04-30                     Cancelled   \n",
       "1      171-9198151-1101146 2022-04-30  Shipped - Delivered to Buyer   \n",
       "2      404-0687676-7273146 2022-04-30                       Shipped   \n",
       "3      403-9615377-8133951 2022-04-30                     Cancelled   \n",
       "4      407-1069790-7240320 2022-04-30                       Shipped   \n",
       "\n",
       "      Fulfilment Sales Channel  ship-service-level    Style              SKU  \\\n",
       "index                                                                          \n",
       "0       Merchant      Amazon.in           Standard   SET389   SET389-KR-NP-S   \n",
       "1       Merchant      Amazon.in           Standard  JNE3781  JNE3781-KR-XXXL   \n",
       "2         Amazon      Amazon.in          Expedited  JNE3371    JNE3371-KR-XL   \n",
       "3       Merchant      Amazon.in           Standard    J0341       J0341-DR-L   \n",
       "4         Amazon      Amazon.in          Expedited  JNE3671  JNE3671-TU-XXXL   \n",
       "\n",
       "            Category Size        ASIN Courier Status  Qty currency  Amount  \\\n",
       "index                                                                        \n",
       "0                Set    S  B09KXVBD7Z            NaN    0      INR  647.62   \n",
       "1              kurta  3XL  B09K3WFS32        Shipped    1      INR  406.00   \n",
       "2              kurta   XL  B07WV4JV4D        Shipped    1      INR  329.00   \n",
       "3      Western Dress    L  B099NRCT7B            NaN    0      INR  753.33   \n",
       "4                Top  3XL  B098714BZP        Shipped    1      INR  574.00   \n",
       "\n",
       "         ship-city   ship-state  ship-postal-code ship-country    B2B  \n",
       "index                                                                  \n",
       "0           MUMBAI  MAHARASHTRA          400081.0           IN  False  \n",
       "1        BENGALURU    KARNATAKA          560085.0           IN  False  \n",
       "2      NAVI MUMBAI  MAHARASHTRA          410210.0           IN   True  \n",
       "3       PUDUCHERRY   PUDUCHERRY          605008.0           IN  False  \n",
       "4          CHENNAI   TAMIL NADU          600073.0           IN  False  "
      ]
     },
     "execution_count": 19,
     "metadata": {},
     "output_type": "execute_result"
    }
   ],
   "source": [
    "df_domestic.head()"
   ]
  },
  {
   "cell_type": "code",
   "execution_count": 20,
   "id": "db2a1623-c1d2-41e3-bfaf-cef5baa6f6af",
   "metadata": {},
   "outputs": [
    {
     "name": "stdout",
     "output_type": "stream",
     "text": [
      "Order ID\n",
      "403-4984515-8861958    12\n",
      "171-5057375-2831560    12\n",
      "403-0173977-3041148    11\n",
      "404-9932919-6662730    11\n",
      "408-3317403-1729937    10\n",
      "                       ..\n",
      "408-4323946-0210734     1\n",
      "403-9660720-7207506     1\n",
      "403-6231612-3153120     1\n",
      "407-9521244-5120341     1\n",
      "171-9198151-1101146     1\n",
      "Name: count, Length: 120220, dtype: int64\n",
      "Null Values: 0\n"
     ]
    }
   ],
   "source": [
    "print(df_domestic['Order ID'].value_counts())\n",
    "print(f'Null Values: {df_domestic['Order ID'].isnull().sum()}')"
   ]
  },
  {
   "cell_type": "code",
   "execution_count": 21,
   "id": "93aa1c1a-9b3e-4033-a104-fc5385f04ea2",
   "metadata": {},
   "outputs": [
    {
     "name": "stdout",
     "output_type": "stream",
     "text": [
      "Status\n",
      "Shipped                          77668\n",
      "Shipped - Delivered to Buyer     28753\n",
      "Cancelled                        18314\n",
      "Shipped - Returned to Seller      1952\n",
      "Shipped - Picked Up                973\n",
      "Pending                            658\n",
      "Pending - Waiting for Pick Up      281\n",
      "Shipped - Returning to Seller      145\n",
      "Shipped - Out for Delivery          35\n",
      "Shipped - Rejected by Buyer         11\n",
      "Shipping                             8\n",
      "Shipped - Lost in Transit            5\n",
      "Shipped - Damaged                    1\n",
      "Name: count, dtype: int64\n",
      "Null Values: 0\n"
     ]
    }
   ],
   "source": [
    "print(df_domestic['Status'].value_counts())\n",
    "print(f'Null Values: {df_domestic['Status'].isnull().sum()}')"
   ]
  },
  {
   "cell_type": "code",
   "execution_count": 22,
   "id": "22a2ac11-e95d-427e-9149-cff66b513833",
   "metadata": {},
   "outputs": [],
   "source": [
    "# Converting Status in 3 broad categories: Delivered, returns, pending."
   ]
  },
  {
   "cell_type": "code",
   "execution_count": 23,
   "id": "eccf2670-d8b8-4fcc-93fc-10587a2942bb",
   "metadata": {},
   "outputs": [],
   "source": [
    "def categorize_status(status):\n",
    "    Success = [\"Shipped - Delivered to Buyer\",\"Shipped - Picked Up\",\"Shipped\"]\n",
    "    Failure = [\"Cancelled\",\"Shipped - Returned to Seller\",\"Shipped - Returning to Seller\",\"Shipped - Rejected by Buyer\",\"Shipped - Lost in Transit\",\"Shipped - Damaged\"]\n",
    "    Pending = [\"Pending\",\"Shipped - Out for Delivery\",\"Pending - Waiting for Pick Up\",\"Shipping\"]\n",
    "    if status in Success:\n",
    "        return \"Delivered\"\n",
    "    elif status in Failure:\n",
    "        return \"Returned\"\n",
    "    elif status in Pending:\n",
    "        return 'Pending'\n",
    "    else:\n",
    "        return \"Other\""
   ]
  },
  {
   "cell_type": "code",
   "execution_count": 24,
   "id": "0b29c8c3-69c1-4898-a0b4-5c8d5f24a826",
   "metadata": {},
   "outputs": [],
   "source": [
    "df_domestic['Status'] = df_domestic['Status'].apply(categorize_status)"
   ]
  },
  {
   "cell_type": "code",
   "execution_count": 25,
   "id": "54230137-7436-4502-8aef-fd9e81cdb2d0",
   "metadata": {},
   "outputs": [
    {
     "data": {
      "text/html": [
       "<div>\n",
       "<style scoped>\n",
       "    .dataframe tbody tr th:only-of-type {\n",
       "        vertical-align: middle;\n",
       "    }\n",
       "\n",
       "    .dataframe tbody tr th {\n",
       "        vertical-align: top;\n",
       "    }\n",
       "\n",
       "    .dataframe thead th {\n",
       "        text-align: right;\n",
       "    }\n",
       "</style>\n",
       "<table border=\"1\" class=\"dataframe\">\n",
       "  <thead>\n",
       "    <tr style=\"text-align: right;\">\n",
       "      <th></th>\n",
       "      <th>Order ID</th>\n",
       "      <th>Date</th>\n",
       "      <th>Status</th>\n",
       "      <th>Fulfilment</th>\n",
       "      <th>Sales Channel</th>\n",
       "      <th>ship-service-level</th>\n",
       "      <th>Style</th>\n",
       "      <th>SKU</th>\n",
       "      <th>Category</th>\n",
       "      <th>Size</th>\n",
       "      <th>ASIN</th>\n",
       "      <th>Courier Status</th>\n",
       "      <th>Qty</th>\n",
       "      <th>currency</th>\n",
       "      <th>Amount</th>\n",
       "      <th>ship-city</th>\n",
       "      <th>ship-state</th>\n",
       "      <th>ship-postal-code</th>\n",
       "      <th>ship-country</th>\n",
       "      <th>B2B</th>\n",
       "    </tr>\n",
       "    <tr>\n",
       "      <th>index</th>\n",
       "      <th></th>\n",
       "      <th></th>\n",
       "      <th></th>\n",
       "      <th></th>\n",
       "      <th></th>\n",
       "      <th></th>\n",
       "      <th></th>\n",
       "      <th></th>\n",
       "      <th></th>\n",
       "      <th></th>\n",
       "      <th></th>\n",
       "      <th></th>\n",
       "      <th></th>\n",
       "      <th></th>\n",
       "      <th></th>\n",
       "      <th></th>\n",
       "      <th></th>\n",
       "      <th></th>\n",
       "      <th></th>\n",
       "      <th></th>\n",
       "    </tr>\n",
       "  </thead>\n",
       "  <tbody>\n",
       "    <tr>\n",
       "      <th>128809</th>\n",
       "      <td>171-5622534-9662742</td>\n",
       "      <td>2022-06-01</td>\n",
       "      <td>Delivered</td>\n",
       "      <td>Merchant</td>\n",
       "      <td>Amazon.in</td>\n",
       "      <td>Standard</td>\n",
       "      <td>JNE3797</td>\n",
       "      <td>JNE3797-KR-XL</td>\n",
       "      <td>Western Dress</td>\n",
       "      <td>XL</td>\n",
       "      <td>B09SDXRYBG</td>\n",
       "      <td>Shipped</td>\n",
       "      <td>1</td>\n",
       "      <td>INR</td>\n",
       "      <td>735.0</td>\n",
       "      <td>BENGALURU</td>\n",
       "      <td>KARNATAKA</td>\n",
       "      <td>560072.0</td>\n",
       "      <td>IN</td>\n",
       "      <td>False</td>\n",
       "    </tr>\n",
       "    <tr>\n",
       "      <th>25929</th>\n",
       "      <td>402-7695558-6282749</td>\n",
       "      <td>2022-04-15</td>\n",
       "      <td>Delivered</td>\n",
       "      <td>Amazon</td>\n",
       "      <td>Amazon.in</td>\n",
       "      <td>Expedited</td>\n",
       "      <td>SET342</td>\n",
       "      <td>SET342-KR-NP-N-XS</td>\n",
       "      <td>Set</td>\n",
       "      <td>XS</td>\n",
       "      <td>B09Q1943PQ</td>\n",
       "      <td>Shipped</td>\n",
       "      <td>1</td>\n",
       "      <td>INR</td>\n",
       "      <td>916.0</td>\n",
       "      <td>Ahmedabad</td>\n",
       "      <td>Gujarat</td>\n",
       "      <td>380015.0</td>\n",
       "      <td>IN</td>\n",
       "      <td>False</td>\n",
       "    </tr>\n",
       "    <tr>\n",
       "      <th>118419</th>\n",
       "      <td>404-8522744-9548341</td>\n",
       "      <td>2022-06-08</td>\n",
       "      <td>Delivered</td>\n",
       "      <td>Amazon</td>\n",
       "      <td>Amazon.in</td>\n",
       "      <td>Expedited</td>\n",
       "      <td>JNE3739</td>\n",
       "      <td>JNE3739-KR-XXXL</td>\n",
       "      <td>kurta</td>\n",
       "      <td>3XL</td>\n",
       "      <td>B099NPSHJ2</td>\n",
       "      <td>Shipped</td>\n",
       "      <td>1</td>\n",
       "      <td>INR</td>\n",
       "      <td>431.0</td>\n",
       "      <td>ROBERTSONPET</td>\n",
       "      <td>KARNATAKA</td>\n",
       "      <td>563120.0</td>\n",
       "      <td>IN</td>\n",
       "      <td>False</td>\n",
       "    </tr>\n",
       "  </tbody>\n",
       "</table>\n",
       "</div>"
      ],
      "text/plain": [
       "                   Order ID       Date     Status Fulfilment Sales Channel   \\\n",
       "index                                                                         \n",
       "128809  171-5622534-9662742 2022-06-01  Delivered   Merchant      Amazon.in   \n",
       "25929   402-7695558-6282749 2022-04-15  Delivered     Amazon      Amazon.in   \n",
       "118419  404-8522744-9548341 2022-06-08  Delivered     Amazon      Amazon.in   \n",
       "\n",
       "       ship-service-level    Style                SKU       Category Size  \\\n",
       "index                                                                       \n",
       "128809           Standard  JNE3797      JNE3797-KR-XL  Western Dress   XL   \n",
       "25929           Expedited   SET342  SET342-KR-NP-N-XS            Set   XS   \n",
       "118419          Expedited  JNE3739    JNE3739-KR-XXXL          kurta  3XL   \n",
       "\n",
       "              ASIN Courier Status  Qty currency  Amount     ship-city  \\\n",
       "index                                                                   \n",
       "128809  B09SDXRYBG        Shipped    1      INR   735.0     BENGALURU   \n",
       "25929   B09Q1943PQ        Shipped    1      INR   916.0     Ahmedabad   \n",
       "118419  B099NPSHJ2        Shipped    1      INR   431.0  ROBERTSONPET   \n",
       "\n",
       "       ship-state  ship-postal-code ship-country    B2B  \n",
       "index                                                    \n",
       "128809  KARNATAKA          560072.0           IN  False  \n",
       "25929     Gujarat          380015.0           IN  False  \n",
       "118419  KARNATAKA          563120.0           IN  False  "
      ]
     },
     "execution_count": 25,
     "metadata": {},
     "output_type": "execute_result"
    }
   ],
   "source": [
    "df_domestic.sample(3)"
   ]
  },
  {
   "cell_type": "code",
   "execution_count": 26,
   "id": "d6538225-51bf-4806-bba3-61a2bdc97029",
   "metadata": {},
   "outputs": [
    {
     "name": "stdout",
     "output_type": "stream",
     "text": [
      "Fulfilment\n",
      "Amazon      89550\n",
      "Merchant    39254\n",
      "Name: count, dtype: int64\n",
      "Null Values: 0\n"
     ]
    }
   ],
   "source": [
    "print(df_domestic['Fulfilment'].value_counts())\n",
    "print(f'Null Values: {df_domestic['Fulfilment'].isnull().sum()}')"
   ]
  },
  {
   "cell_type": "code",
   "execution_count": 27,
   "id": "c2250ab0-3faa-4330-a38f-80e22f7b0c38",
   "metadata": {},
   "outputs": [
    {
     "name": "stdout",
     "output_type": "stream",
     "text": [
      "Fulfilment\n",
      "Amazon      89550\n",
      "Merchant    39254\n",
      "Name: count, dtype: int64\n",
      "Null Values: 0\n"
     ]
    }
   ],
   "source": [
    "df_domestic.rename(columns={'Sales Channel ':'Sales Channel'}, inplace = True)  # Removing extra Spaces\n",
    "print(df_domestic['Fulfilment'].value_counts())\n",
    "print(f'Null Values: {df_domestic['Fulfilment'].isnull().sum()}')"
   ]
  },
  {
   "cell_type": "code",
   "execution_count": 28,
   "id": "34229bd9-0898-40d7-8ef3-284b3e2e0142",
   "metadata": {},
   "outputs": [
    {
     "name": "stdout",
     "output_type": "stream",
     "text": [
      "ship-service-level\n",
      "Expedited    88467\n",
      "Standard     40337\n",
      "Name: count, dtype: int64\n",
      "Null Values: 0\n"
     ]
    }
   ],
   "source": [
    "print(df_domestic['ship-service-level'].value_counts())\n",
    "print(f'Null Values: {df_domestic['ship-service-level'].isnull().sum()}')"
   ]
  },
  {
   "cell_type": "code",
   "execution_count": 29,
   "id": "dc3f2167-65d5-4fc6-a9dc-594c4ac7435c",
   "metadata": {},
   "outputs": [
    {
     "name": "stdout",
     "output_type": "stream",
     "text": [
      "Style\n",
      "JNE3797    4221\n",
      "JNE3405    2257\n",
      "J0230      1864\n",
      "SET268     1857\n",
      "J0341      1628\n",
      "           ... \n",
      "DPT052        1\n",
      "DPT041        1\n",
      "DPT032        1\n",
      "JNE2323       1\n",
      "SET045        1\n",
      "Name: count, Length: 1377, dtype: int64\n",
      "Null Values: 0\n"
     ]
    }
   ],
   "source": [
    "print(df_domestic['Style'].value_counts())\n",
    "print(f'Null Values: {df_domestic['Style'].isnull().sum()}')"
   ]
  },
  {
   "cell_type": "code",
   "execution_count": 30,
   "id": "b7c0feb2-fb76-48a4-8b32-8010ddf0bd62",
   "metadata": {},
   "outputs": [
    {
     "name": "stdout",
     "output_type": "stream",
     "text": [
      "SKU\n",
      "JNE3797-KR-L        772\n",
      "JNE3797-KR-M        656\n",
      "JNE3797-KR-S        586\n",
      "JNE3405-KR-L        534\n",
      "J0230-SKD-M         506\n",
      "                   ... \n",
      "J0152-DR-M            1\n",
      "SET432-KR-PP-XXL      1\n",
      "BTM003-XXXL           1\n",
      "J0319-KR-XXL          1\n",
      "SAR113                1\n",
      "Name: count, Length: 7194, dtype: int64\n",
      "Null Values: 0\n"
     ]
    }
   ],
   "source": [
    "print(df_domestic['SKU'].value_counts())\n",
    "print(f'Null Values: {df_domestic['SKU'].isnull().sum()}')"
   ]
  },
  {
   "cell_type": "code",
   "execution_count": 31,
   "id": "6b0512ab-fd55-4644-baa3-14072f9c74b3",
   "metadata": {},
   "outputs": [
    {
     "name": "stdout",
     "output_type": "stream",
     "text": [
      "Category\n",
      "Set              50209\n",
      "kurta            49801\n",
      "Western Dress    15491\n",
      "Top              10613\n",
      "Ethnic Dress      1158\n",
      "Blouse             925\n",
      "Bottom             440\n",
      "Saree              164\n",
      "Dupatta              3\n",
      "Name: count, dtype: int64\n",
      "Null Values: 0\n"
     ]
    }
   ],
   "source": [
    "print(df_domestic['Category'].value_counts())\n",
    "print(f'Null Values: {df_domestic['Category'].isnull().sum()}')"
   ]
  },
  {
   "cell_type": "code",
   "execution_count": 32,
   "id": "4d962b81-5124-4e92-9f97-cd1e6ebb60f8",
   "metadata": {},
   "outputs": [
    {
     "name": "stdout",
     "output_type": "stream",
     "text": [
      "Size\n",
      "M       22681\n",
      "L       22095\n",
      "XL      20850\n",
      "XXL     18069\n",
      "S       17070\n",
      "3XL     14800\n",
      "XS      11150\n",
      "6XL       736\n",
      "5XL       548\n",
      "4XL       427\n",
      "Free      378\n",
      "Name: count, dtype: int64\n",
      "Null Values: 0\n"
     ]
    }
   ],
   "source": [
    "print(df_domestic['Size'].value_counts())\n",
    "print(f'Null Values: {df_domestic['Size'].isnull().sum()}')"
   ]
  },
  {
   "cell_type": "code",
   "execution_count": 33,
   "id": "23d5faed-7447-4c91-96f0-e05ddee0286d",
   "metadata": {},
   "outputs": [
    {
     "name": "stdout",
     "output_type": "stream",
     "text": [
      "ASIN\n",
      "B09SDXFFQ1    772\n",
      "B09SDY8DCT    656\n",
      "B09SDYQ3WG    586\n",
      "B081WSCKPQ    534\n",
      "B08XNJG8B1    506\n",
      "             ... \n",
      "B09Y3QNKD9      1\n",
      "B089G184QQ      1\n",
      "B08BFFYNB5      1\n",
      "B08V1KSHHQ      1\n",
      "B09Y3DZ492      1\n",
      "Name: count, Length: 7189, dtype: int64\n",
      "Null Values: 0\n"
     ]
    }
   ],
   "source": [
    "print(df_domestic['ASIN'].value_counts())\n",
    "print(f'Null Values: {df_domestic['ASIN'].isnull().sum()}')"
   ]
  },
  {
   "cell_type": "code",
   "execution_count": 34,
   "id": "14ad55cb-ac37-49a7-9d4b-326b8fcc0f96",
   "metadata": {},
   "outputs": [
    {
     "name": "stdout",
     "output_type": "stream",
     "text": [
      "Courier Status\n",
      "Shipped      109335\n",
      "Unshipped      6677\n",
      "Cancelled      5926\n",
      "Name: count, dtype: int64\n",
      "Null Values: 6866\n"
     ]
    }
   ],
   "source": [
    "print(df_domestic['Courier Status'].value_counts())\n",
    "print(f'Null Values: {df_domestic['Courier Status'].isnull().sum()}')"
   ]
  },
  {
   "cell_type": "code",
   "execution_count": 35,
   "id": "b575e4c9-40b4-4812-b051-36f2efd88c07",
   "metadata": {},
   "outputs": [],
   "source": [
    "# As \"Courier Status\" column has around 5% missing values, Replacing it with 'unknown'\n",
    "df_domestic['Courier Status'] = df_domestic['Courier Status'].fillna('Unknown')"
   ]
  },
  {
   "cell_type": "code",
   "execution_count": 36,
   "id": "329010ff-1479-4582-872c-3b45537006b0",
   "metadata": {},
   "outputs": [
    {
     "name": "stdout",
     "output_type": "stream",
     "text": [
      "Qty\n",
      "1     115624\n",
      "0      12792\n",
      "2        341\n",
      "3         32\n",
      "4          9\n",
      "5          2\n",
      "9          1\n",
      "15         1\n",
      "13         1\n",
      "8          1\n",
      "Name: count, dtype: int64\n",
      "Null Values: 0\n"
     ]
    }
   ],
   "source": [
    "print(df_domestic['Qty'].value_counts())\n",
    "print(f'Null Values: {df_domestic['Qty'].isnull().sum()}')"
   ]
  },
  {
   "cell_type": "code",
   "execution_count": 37,
   "id": "f15fcf6c-1f5d-46f9-944b-4f2dc1c9cc43",
   "metadata": {},
   "outputs": [
    {
     "name": "stdout",
     "output_type": "stream",
     "text": [
      "currency\n",
      "INR    121018\n",
      "Name: count, dtype: int64\n",
      "ship-country\n",
      "IN    128771\n",
      "Name: count, dtype: int64\n"
     ]
    }
   ],
   "source": [
    "print(df_domestic['currency'].value_counts())\n",
    "print(df_domestic['ship-country'].value_counts())"
   ]
  },
  {
   "cell_type": "code",
   "execution_count": 38,
   "id": "764528d7-a746-42b5-a30c-da5f87f2790d",
   "metadata": {},
   "outputs": [],
   "source": [
    "# Both 'currency' and 'ship-country' has only one unique value.\n",
    "# As it is domestic report of India these values are obvious and does not add any value. So it's better to drop them.\n",
    "df_domestic.drop(columns = [\"currency\",\"ship-country\"], inplace = True)"
   ]
  },
  {
   "cell_type": "code",
   "execution_count": 39,
   "id": "062d1fbd-48ab-45b3-891b-5ad8a3c44c23",
   "metadata": {},
   "outputs": [
    {
     "name": "stdout",
     "output_type": "stream",
     "text": [
      "Amount\n",
      "399.00     5439\n",
      "771.00     2797\n",
      "735.00     2436\n",
      "0.00       2343\n",
      "487.00     2293\n",
      "           ... \n",
      "450.48        1\n",
      "1014.00       1\n",
      "619.05        1\n",
      "683.81        1\n",
      "1064.29       1\n",
      "Name: count, Length: 1409, dtype: int64\n",
      "Null Values: 7786\n"
     ]
    }
   ],
   "source": [
    "print(df_domestic['Amount'].value_counts())\n",
    "print(f'Null Values: {df_domestic['Amount'].isnull().sum()}')"
   ]
  },
  {
   "cell_type": "code",
   "execution_count": 40,
   "id": "4c60a879-c0ef-4ebc-9860-75d1ccc6f608",
   "metadata": {},
   "outputs": [],
   "source": [
    "# Replacing Null Values with 0\n",
    "df_domestic['Amount'] = df_domestic['Amount'].fillna(0)"
   ]
  },
  {
   "cell_type": "code",
   "execution_count": 41,
   "id": "84ff4344-48ce-4d01-ad06-d42aaa825eb8",
   "metadata": {
    "scrolled": true
   },
   "outputs": [
    {
     "name": "stdout",
     "output_type": "stream",
     "text": [
      "ship-city\n",
      "BENGALURU           11201\n",
      "HYDERABAD            8066\n",
      "MUMBAI               6121\n",
      "NEW DELHI            5786\n",
      "CHENNAI              5413\n",
      "                    ...  \n",
      "dimapur                 1\n",
      "Near Shauchaley         1\n",
      "Pilani                  1\n",
      "Kottagoundampati        1\n",
      "Kakkanad, kochi         1\n",
      "Name: count, Length: 8952, dtype: int64\n",
      "Null Values: 33\n"
     ]
    }
   ],
   "source": [
    "print(df_domestic['ship-city'].value_counts())\n",
    "print(f'Null Values: {df_domestic['ship-city'].isnull().sum()}')"
   ]
  },
  {
   "cell_type": "code",
   "execution_count": 42,
   "id": "0fee4910-54c9-40c6-86ef-ea5e84150321",
   "metadata": {},
   "outputs": [],
   "source": [
    "# Standardizing city feature by converting to title case and removing extra spaces.\n",
    "df_domestic['ship-city']=df_domestic['ship-city'].str.title().str.strip()"
   ]
  },
  {
   "cell_type": "code",
   "execution_count": 43,
   "id": "855e3d98-b7ca-4337-9ac5-bb1c8df68ca8",
   "metadata": {},
   "outputs": [
    {
     "data": {
      "text/plain": [
       "ship-city\n",
       "Bengaluru          11881\n",
       "Hyderabad           9117\n",
       "Mumbai              7116\n",
       "New Delhi           6331\n",
       "Chennai             6276\n",
       "                   ...  \n",
       "Chogawan               1\n",
       "Bileipada              1\n",
       "Achalpur               1\n",
       "Chalakkal,Aluva        1\n",
       "Amravati.              1\n",
       "Name: count, Length: 7294, dtype: int64"
      ]
     },
     "execution_count": 43,
     "metadata": {},
     "output_type": "execute_result"
    }
   ],
   "source": [
    "df_domestic['ship-city'].value_counts()"
   ]
  },
  {
   "cell_type": "code",
   "execution_count": 44,
   "id": "29d13b17-1dfd-442a-9f76-d6cfe743d925",
   "metadata": {},
   "outputs": [],
   "source": [
    "#pip install thefuzz"
   ]
  },
  {
   "cell_type": "markdown",
   "id": "36c95fd8-7b83-4693-a258-1853fc23370e",
   "metadata": {},
   "source": [
    "### Fuzzy Matching for 'ship-city' Standardization\n",
    "\n",
    "There are 7297 Unique Values in \"ship-city\" column and most of it is just noise, trying to reduce it.\n",
    "\n",
    "- First, missing values are filled with `'Unknown'`.\n",
    "- The 500 most common city names are used as reference points.\n",
    "- Fuzzy string matching is applied using the `thefuzz` library to map less common or misspelled city names to their closest match.\n",
    "- Only matches with a similarity score ≥ 85 are accepted to avoid incorrect mappings.\n",
    "\n",
    "The cleaned values are stored in a new column: `clean_ship-city`.\n"
   ]
  },
  {
   "cell_type": "code",
   "execution_count": 45,
   "id": "21f0f7b8-de86-48fd-9ee3-622805852cbb",
   "metadata": {},
   "outputs": [],
   "source": [
    "from thefuzz import process\n",
    "\n",
    "\n",
    "df_domestic['ship-city'] = df_domestic['ship-city'].fillna('Unknown').astype(str)\n",
    "\n",
    "\n",
    "city_counts = df_domestic['ship-city'].value_counts()\n",
    "reference_cities = city_counts.head(500).index.tolist() \n",
    "\n",
    "\n",
    "def get_closest_city(name, reference_list, threshold=85):\n",
    "    if not isinstance(name, str) or name.strip() == '':\n",
    "        return 'Unknown'\n",
    "    match, score = process.extractOne(name, reference_list)\n",
    "    return match if score >= threshold else name  \n",
    "\n",
    "df_domestic['clean_ship-city'] = df_domestic['ship-city'].apply(\n",
    "    lambda x: get_closest_city(x, reference_cities)\n",
    ")"
   ]
  },
  {
   "cell_type": "code",
   "execution_count": 46,
   "id": "9c071daf-6a51-4749-ba8e-4e701c87041b",
   "metadata": {},
   "outputs": [
    {
     "data": {
      "text/plain": [
       "clean_ship-city\n",
       "Bengaluru         11952\n",
       "Hyderabad          9217\n",
       "Mumbai             7376\n",
       "New Delhi          6391\n",
       "Chennai            6366\n",
       "                  ...  \n",
       "Movva. Mandal         1\n",
       "Saunda                1\n",
       "Jamtaraj              1\n",
       "Howajan,Gohpur        1\n",
       "Avadi                 1\n",
       "Name: count, Length: 5032, dtype: int64"
      ]
     },
     "execution_count": 46,
     "metadata": {},
     "output_type": "execute_result"
    }
   ],
   "source": [
    "df_domestic['clean_ship-city'].value_counts()"
   ]
  },
  {
   "cell_type": "markdown",
   "id": "f956c361-0db7-4432-bd22-3a512694ced5",
   "metadata": {},
   "source": [
    "Even after cleaning there are 5050 unique cities, hence mapping few of the common cities manually And then dividing them into broad Tiers."
   ]
  },
  {
   "cell_type": "code",
   "execution_count": 47,
   "id": "a5e4e5ca-db53-4d2a-b272-d5cd0261b3cc",
   "metadata": {},
   "outputs": [],
   "source": [
    "manual_city_mapping = {\n",
    "    \"Bangalore\": \"Bengaluru\",\n",
    "    \"Navi Mumbai\": \"Mumbai\",\n",
    "    \"New Delhi\": \"Delhi\",\n",
    "    \"South Delhi\": \"Delhi\",\n",
    "    \"East Delhi\": \"Delhi\",\n",
    "    \"Greater Noida West\": \"Greater Noida\",\n",
    "    \"Thane West\": \"Thane\",\n",
    "    \"Dombivli East\": \"Dombivli\",\n",
    "    \"Dombivli West\": \"Dombivli\",\n",
    "    \"Dombivali\": \"Dombivli\",\n",
    "    \"Trivandrum\": \"Thiruvananthapuram\",\n",
    "    \"Mysore\": \"Mysuru\",\n",
    "    \"Gurgaon\": \"Gurugram\",\n",
    "    \"Vasai\": \"Vasai Virar\",\n",
    "    \"Calicut\": \"Kozhikode\",\n",
    "    \"Pondicherry\": \"Puducherry\",\n",
    "    \"Kalyan West\": \"Kalyan\",\n",
    "    \"Bidhan Nagar\": \"Kolkata\",\n",
    "    \"New Town\": \"Kolkata\",\n",
    "    \"Gautam Buddha Nagar\": \"Noida\",\n",
    "    \"Panaji\": \"Goa\",\n",
    "    \"Vasco Da Gama\": \"Goa\",\n",
    "    \"Mapusa\": \"Goa\",\n",
    "    \"Ponda\": \"Goa\",\n",
    "    \"Porvorim\": \"Goa\",\n",
    "    \"Curchorem\": \"Goa\",\n",
    "    \"Quepem\": \"Goa\",\n",
    "    \"Colvale\": \"Goa\",\n",
    "    \"North Goa\": \"Goa\",\n",
    "    \"South Goa\": \"Goa\",\n",
    "    \"Kochi\": \"Ernakulam\",\n",
    "    \"Thrippunithura\": \"Ernakulam\",\n",
    "    \"Kakkanad\": \"Ernakulam\",\n",
    "    \"Aluva\": \"Ernakulam\",\n",
    "    \"Chengannur\": \"Alappuzha\",\n",
    "    \"Kayamkulam\": \"Alappuzha\",\n",
    "    \"Paravur\": \"Alappuzha\",\n",
    "    \"Ettumanoor\": \"Kottayam\",\n",
    "    \"Changanacherry\": \"Kottayam\",\n",
    "    \"Perinthalmanna\": \"Malappuram\",\n",
    "    \"Manjeri\": \"Malappuram\",\n",
    "    \"Kunnathunad\": \"Ernakulam\",\n",
    "    \"Malda\": \"West Bengal\",\n",
    "    \"Siliguri\": \"West Bengal\",\n",
    "    \"Darjeeling\": \"West Bengal\",\n",
    "    \"North 24 Parganas\": \"Kolkata\",\n",
    "    \"Barrackpore\": \"Kolkata\",\n",
    "    \"Rajpur Sonarpur\": \"Kolkata\",\n",
    "    \"Serampore\": \"Kolkata\",\n",
    "    \"Uttarpara Kotrung\": \"Kolkata\",\n",
    "    \"Mirzapur Cum Vindhyachal\": \"Mirzapur\",\n",
    "    \"Prayagraj\": \"Allahabad\",\n",
    "}"
   ]
  },
  {
   "cell_type": "code",
   "execution_count": 48,
   "id": "bed13597-17f7-4d0e-beca-4fca059c4d02",
   "metadata": {
    "scrolled": true
   },
   "outputs": [],
   "source": [
    "df_domestic['clean_ship-city'] = df_domestic['clean_ship-city'].replace(manual_city_mapping)"
   ]
  },
  {
   "cell_type": "code",
   "execution_count": 49,
   "id": "6b435600-ff32-40ea-a07d-d6001681c4be",
   "metadata": {},
   "outputs": [
    {
     "data": {
      "text/plain": [
       "clean_ship-city\n",
       "Bengaluru       13380\n",
       "Hyderabad        9217\n",
       "Mumbai           8786\n",
       "Delhi            6903\n",
       "Chennai          6366\n",
       "                ...  \n",
       "Achalpur            1\n",
       "Kelveroad           1\n",
       "Pattabiram          1\n",
       "Bande               1\n",
       "Nereducherla        1\n",
       "Name: count, Length: 4984, dtype: int64"
      ]
     },
     "execution_count": 49,
     "metadata": {},
     "output_type": "execute_result"
    }
   ],
   "source": [
    "df_domestic['clean_ship-city'].value_counts()"
   ]
  },
  {
   "cell_type": "code",
   "execution_count": 50,
   "id": "d1215609-9435-4201-9672-303c1e722758",
   "metadata": {},
   "outputs": [],
   "source": [
    "tier_1 = [\n",
    "    \"Mumbai\", \"Delhi\", \"Bengaluru\", \"Chennai\",\"Hyderabad\", \"Kolkata\", \"Pune\",\"Ahmedabad\" \n",
    "]\n",
    "\n",
    "tier_2 = [\n",
    "    \"Surat\", \"Jaipur\", \"Lucknow\", \"Nagpur\", \"Kanpur\", \"Indore\", \"Bhopal\",\n",
    "    \"Patna\", \"Coimbatore\", \"Visakhapatnam\", \"Vadodara\", \"Thane\", \"Noida\", \"Gurgaon\", \"Gurugram\",\n",
    "    \"Faridabad\", \"Ludhiana\", \"Amritsar\", \"Rajkot\", \"Ranchi\", \"Varanasi\", \"Vijayawada\", \"Madurai\",\n",
    "    \"Raipur\", \"Jamshedpur\", \"Dehradun\", \"Guwahati\", \"Mysore\", \"Chandigarh\", \"Nashik\",\n",
    "    \"Thrissur\", \"Trivandrum\", \"Thiruvananthapuram\", \"Ernakulam\", \"Pimpri Chinchwad\"\n",
    "]\n",
    "\n",
    "def assign_tier(city):\n",
    "    city = city.strip()\n",
    "    if city in tier_1:\n",
    "        return 'Tier 1'\n",
    "    elif city in tier_2:\n",
    "        return \"Tier 2\"\n",
    "    else:\n",
    "        return 'Tier 3'"
   ]
  },
  {
   "cell_type": "code",
   "execution_count": 51,
   "id": "d420a56a-50e2-43ef-bbea-1a0c9c159454",
   "metadata": {},
   "outputs": [],
   "source": [
    "df_domestic['Tier'] = df_domestic['clean_ship-city'].apply(assign_tier)"
   ]
  },
  {
   "cell_type": "code",
   "execution_count": null,
   "id": "f08ccb54-7620-447e-9a31-dbf58b56adfe",
   "metadata": {},
   "outputs": [],
   "source": []
  },
  {
   "cell_type": "code",
   "execution_count": 52,
   "id": "7bbce038-181e-4177-9763-8498331808ae",
   "metadata": {},
   "outputs": [],
   "source": [
    "# Dropping the raw 'ship-city' column and replacing it with cleaned one.\n",
    "df_domestic.drop(columns='ship-city',inplace = True)\n",
    "ship_index = df_domestic.columns.get_loc('Amount') \n",
    "df_domestic.insert(ship_index + 1, 'clean_ship-city', df_domestic.pop('clean_ship-city'))\n",
    "df_domestic.rename(columns={\"clean_ship-city\":\"ship-city\"}, inplace=True)"
   ]
  },
  {
   "cell_type": "code",
   "execution_count": 53,
   "id": "305ba964-99bc-4aa1-af80-81d4fac79d9a",
   "metadata": {},
   "outputs": [],
   "source": [
    "# Shifting 'tier' column next to 'ship-city' column\n",
    "tier_index = df_domestic.columns.get_loc('ship-city') \n",
    "df_domestic.insert(tier_index + 1, 'Tier', df_domestic.pop('Tier'))"
   ]
  },
  {
   "cell_type": "code",
   "execution_count": 54,
   "id": "e98e0215-be09-438a-87e3-48808de4429d",
   "metadata": {},
   "outputs": [
    {
     "data": {
      "text/html": [
       "<div>\n",
       "<style scoped>\n",
       "    .dataframe tbody tr th:only-of-type {\n",
       "        vertical-align: middle;\n",
       "    }\n",
       "\n",
       "    .dataframe tbody tr th {\n",
       "        vertical-align: top;\n",
       "    }\n",
       "\n",
       "    .dataframe thead th {\n",
       "        text-align: right;\n",
       "    }\n",
       "</style>\n",
       "<table border=\"1\" class=\"dataframe\">\n",
       "  <thead>\n",
       "    <tr style=\"text-align: right;\">\n",
       "      <th></th>\n",
       "      <th>Order ID</th>\n",
       "      <th>Date</th>\n",
       "      <th>Status</th>\n",
       "      <th>Fulfilment</th>\n",
       "      <th>Sales Channel</th>\n",
       "      <th>ship-service-level</th>\n",
       "      <th>Style</th>\n",
       "      <th>SKU</th>\n",
       "      <th>Category</th>\n",
       "      <th>Size</th>\n",
       "      <th>ASIN</th>\n",
       "      <th>Courier Status</th>\n",
       "      <th>Qty</th>\n",
       "      <th>Amount</th>\n",
       "      <th>ship-city</th>\n",
       "      <th>Tier</th>\n",
       "      <th>ship-state</th>\n",
       "      <th>ship-postal-code</th>\n",
       "      <th>B2B</th>\n",
       "    </tr>\n",
       "    <tr>\n",
       "      <th>index</th>\n",
       "      <th></th>\n",
       "      <th></th>\n",
       "      <th></th>\n",
       "      <th></th>\n",
       "      <th></th>\n",
       "      <th></th>\n",
       "      <th></th>\n",
       "      <th></th>\n",
       "      <th></th>\n",
       "      <th></th>\n",
       "      <th></th>\n",
       "      <th></th>\n",
       "      <th></th>\n",
       "      <th></th>\n",
       "      <th></th>\n",
       "      <th></th>\n",
       "      <th></th>\n",
       "      <th></th>\n",
       "      <th></th>\n",
       "    </tr>\n",
       "  </thead>\n",
       "  <tbody>\n",
       "    <tr>\n",
       "      <th>0</th>\n",
       "      <td>405-8078784-5731545</td>\n",
       "      <td>2022-04-30</td>\n",
       "      <td>Returned</td>\n",
       "      <td>Merchant</td>\n",
       "      <td>Amazon.in</td>\n",
       "      <td>Standard</td>\n",
       "      <td>SET389</td>\n",
       "      <td>SET389-KR-NP-S</td>\n",
       "      <td>Set</td>\n",
       "      <td>S</td>\n",
       "      <td>B09KXVBD7Z</td>\n",
       "      <td>Unknown</td>\n",
       "      <td>0</td>\n",
       "      <td>647.62</td>\n",
       "      <td>Mumbai</td>\n",
       "      <td>Tier 1</td>\n",
       "      <td>MAHARASHTRA</td>\n",
       "      <td>400081.0</td>\n",
       "      <td>False</td>\n",
       "    </tr>\n",
       "    <tr>\n",
       "      <th>1</th>\n",
       "      <td>171-9198151-1101146</td>\n",
       "      <td>2022-04-30</td>\n",
       "      <td>Delivered</td>\n",
       "      <td>Merchant</td>\n",
       "      <td>Amazon.in</td>\n",
       "      <td>Standard</td>\n",
       "      <td>JNE3781</td>\n",
       "      <td>JNE3781-KR-XXXL</td>\n",
       "      <td>kurta</td>\n",
       "      <td>3XL</td>\n",
       "      <td>B09K3WFS32</td>\n",
       "      <td>Shipped</td>\n",
       "      <td>1</td>\n",
       "      <td>406.00</td>\n",
       "      <td>Bengaluru</td>\n",
       "      <td>Tier 1</td>\n",
       "      <td>KARNATAKA</td>\n",
       "      <td>560085.0</td>\n",
       "      <td>False</td>\n",
       "    </tr>\n",
       "    <tr>\n",
       "      <th>2</th>\n",
       "      <td>404-0687676-7273146</td>\n",
       "      <td>2022-04-30</td>\n",
       "      <td>Delivered</td>\n",
       "      <td>Amazon</td>\n",
       "      <td>Amazon.in</td>\n",
       "      <td>Expedited</td>\n",
       "      <td>JNE3371</td>\n",
       "      <td>JNE3371-KR-XL</td>\n",
       "      <td>kurta</td>\n",
       "      <td>XL</td>\n",
       "      <td>B07WV4JV4D</td>\n",
       "      <td>Shipped</td>\n",
       "      <td>1</td>\n",
       "      <td>329.00</td>\n",
       "      <td>Mumbai</td>\n",
       "      <td>Tier 1</td>\n",
       "      <td>MAHARASHTRA</td>\n",
       "      <td>410210.0</td>\n",
       "      <td>True</td>\n",
       "    </tr>\n",
       "    <tr>\n",
       "      <th>3</th>\n",
       "      <td>403-9615377-8133951</td>\n",
       "      <td>2022-04-30</td>\n",
       "      <td>Returned</td>\n",
       "      <td>Merchant</td>\n",
       "      <td>Amazon.in</td>\n",
       "      <td>Standard</td>\n",
       "      <td>J0341</td>\n",
       "      <td>J0341-DR-L</td>\n",
       "      <td>Western Dress</td>\n",
       "      <td>L</td>\n",
       "      <td>B099NRCT7B</td>\n",
       "      <td>Unknown</td>\n",
       "      <td>0</td>\n",
       "      <td>753.33</td>\n",
       "      <td>Puducherry</td>\n",
       "      <td>Tier 3</td>\n",
       "      <td>PUDUCHERRY</td>\n",
       "      <td>605008.0</td>\n",
       "      <td>False</td>\n",
       "    </tr>\n",
       "    <tr>\n",
       "      <th>4</th>\n",
       "      <td>407-1069790-7240320</td>\n",
       "      <td>2022-04-30</td>\n",
       "      <td>Delivered</td>\n",
       "      <td>Amazon</td>\n",
       "      <td>Amazon.in</td>\n",
       "      <td>Expedited</td>\n",
       "      <td>JNE3671</td>\n",
       "      <td>JNE3671-TU-XXXL</td>\n",
       "      <td>Top</td>\n",
       "      <td>3XL</td>\n",
       "      <td>B098714BZP</td>\n",
       "      <td>Shipped</td>\n",
       "      <td>1</td>\n",
       "      <td>574.00</td>\n",
       "      <td>Chennai</td>\n",
       "      <td>Tier 1</td>\n",
       "      <td>TAMIL NADU</td>\n",
       "      <td>600073.0</td>\n",
       "      <td>False</td>\n",
       "    </tr>\n",
       "  </tbody>\n",
       "</table>\n",
       "</div>"
      ],
      "text/plain": [
       "                  Order ID       Date     Status Fulfilment Sales Channel  \\\n",
       "index                                                                       \n",
       "0      405-8078784-5731545 2022-04-30   Returned   Merchant     Amazon.in   \n",
       "1      171-9198151-1101146 2022-04-30  Delivered   Merchant     Amazon.in   \n",
       "2      404-0687676-7273146 2022-04-30  Delivered     Amazon     Amazon.in   \n",
       "3      403-9615377-8133951 2022-04-30   Returned   Merchant     Amazon.in   \n",
       "4      407-1069790-7240320 2022-04-30  Delivered     Amazon     Amazon.in   \n",
       "\n",
       "      ship-service-level    Style              SKU       Category Size  \\\n",
       "index                                                                    \n",
       "0               Standard   SET389   SET389-KR-NP-S            Set    S   \n",
       "1               Standard  JNE3781  JNE3781-KR-XXXL          kurta  3XL   \n",
       "2              Expedited  JNE3371    JNE3371-KR-XL          kurta   XL   \n",
       "3               Standard    J0341       J0341-DR-L  Western Dress    L   \n",
       "4              Expedited  JNE3671  JNE3671-TU-XXXL            Top  3XL   \n",
       "\n",
       "             ASIN Courier Status  Qty  Amount   ship-city    Tier  \\\n",
       "index                                                               \n",
       "0      B09KXVBD7Z        Unknown    0  647.62      Mumbai  Tier 1   \n",
       "1      B09K3WFS32        Shipped    1  406.00   Bengaluru  Tier 1   \n",
       "2      B07WV4JV4D        Shipped    1  329.00      Mumbai  Tier 1   \n",
       "3      B099NRCT7B        Unknown    0  753.33  Puducherry  Tier 3   \n",
       "4      B098714BZP        Shipped    1  574.00     Chennai  Tier 1   \n",
       "\n",
       "        ship-state  ship-postal-code    B2B  \n",
       "index                                        \n",
       "0      MAHARASHTRA          400081.0  False  \n",
       "1        KARNATAKA          560085.0  False  \n",
       "2      MAHARASHTRA          410210.0   True  \n",
       "3       PUDUCHERRY          605008.0  False  \n",
       "4       TAMIL NADU          600073.0  False  "
      ]
     },
     "execution_count": 54,
     "metadata": {},
     "output_type": "execute_result"
    }
   ],
   "source": [
    "df_domestic.head()"
   ]
  },
  {
   "cell_type": "code",
   "execution_count": 55,
   "id": "e5939fba-98c8-4343-8d97-e1980fc7650f",
   "metadata": {},
   "outputs": [
    {
     "name": "stdout",
     "output_type": "stream",
     "text": [
      "ship-state\n",
      "MAHARASHTRA      22236\n",
      "KARNATAKA        17302\n",
      "TAMIL NADU       11469\n",
      "TELANGANA        11322\n",
      "UTTAR PRADESH    10619\n",
      "                 ...  \n",
      "Nagaland             1\n",
      "Mizoram              1\n",
      "bihar                1\n",
      "rajsthan             1\n",
      "Rajsthan             1\n",
      "Name: count, Length: 69, dtype: int64\n",
      "Null Values: 33\n"
     ]
    }
   ],
   "source": [
    "print(df_domestic['ship-state'].value_counts())\n",
    "print(f'Null Values: {df_domestic['ship-state'].isnull().sum()}')"
   ]
  },
  {
   "cell_type": "code",
   "execution_count": 56,
   "id": "a4c04632-265e-4899-ba6a-3d2481dfd81c",
   "metadata": {},
   "outputs": [],
   "source": [
    "# Standardizing 'ship-state' feature by converting to title case and removing extra spaces & Assigning proper values of states.\n",
    "df_domestic['ship-state']=df_domestic['ship-state'].str.title().str.strip()\n",
    "\n",
    "state_corrections = {\n",
    "    'New Delhi': 'Delhi',\n",
    "    'Orissa': 'Odisha',\n",
    "    'Rajshthan': 'Rajasthan',\n",
    "    'Rajsthan': 'Rajasthan',\n",
    "    'Rj': 'Rajasthan',\n",
    "    'Punjab/Mohali/Zirakpur': 'Punjab',\n",
    "    'Pb': 'Punjab',\n",
    "    'Pondicherry': 'Puducherry',\n",
    "    'Dadra And Nagar': 'Dadra and Nagar Haveli and Daman and Diu',\n",
    "    'Apo': 'Unknown',\n",
    "    'Ar': 'Arunachal Pradesh',\n",
    "    'Nl': 'Nagaland'\n",
    "}\n",
    "\n",
    "df_domestic['ship-state'] = df_domestic['ship-state'].replace(state_corrections)\n",
    "df_domestic['ship-state'] = df_domestic['ship-state'].fillna('Unknown')"
   ]
  },
  {
   "cell_type": "code",
   "execution_count": 57,
   "id": "fc276948-3e5f-467a-84d5-dfa790a95a0d",
   "metadata": {
    "scrolled": true
   },
   "outputs": [
    {
     "name": "stdout",
     "output_type": "stream",
     "text": [
      "ship-state\n",
      "Maharashtra                                 22236\n",
      "Karnataka                                   17302\n",
      "Tamil Nadu                                  11469\n",
      "Telangana                                   11322\n",
      "Uttar Pradesh                               10619\n",
      "Delhi                                        7038\n",
      "Kerala                                       6576\n",
      "West Bengal                                  5947\n",
      "Andhra Pradesh                               5425\n",
      "Gujarat                                      4480\n",
      "Haryana                                      4407\n",
      "Rajasthan                                    2715\n",
      "Madhya Pradesh                               2527\n",
      "Odisha                                       2133\n",
      "Bihar                                        2108\n",
      "Punjab                                       1919\n",
      "Assam                                        1663\n",
      "Uttarakhand                                  1552\n",
      "Jharkhand                                    1454\n",
      "Goa                                          1136\n",
      "Chhattisgarh                                  908\n",
      "Himachal Pradesh                              788\n",
      "Jammu & Kashmir                               701\n",
      "Puducherry                                    351\n",
      "Chandigarh                                    332\n",
      "Manipur                                       316\n",
      "Andaman & Nicobar                             257\n",
      "Meghalaya                                     207\n",
      "Sikkim                                        205\n",
      "Nagaland                                      187\n",
      "Tripura                                       150\n",
      "Arunachal Pradesh                             147\n",
      "Mizoram                                        76\n",
      "Dadra and Nagar Haveli and Daman and Diu       70\n",
      "Ladakh                                         43\n",
      "Unknown                                        34\n",
      "Lakshadweep                                     4\n",
      "Name: count, dtype: int64\n",
      "Null Values: 0\n"
     ]
    }
   ],
   "source": [
    "print(df_domestic['ship-state'].value_counts())\n",
    "print(f'Null Values: {df_domestic['ship-state'].isnull().sum()}')"
   ]
  },
  {
   "cell_type": "code",
   "execution_count": 58,
   "id": "6948c542-3cdc-4d70-b6bb-e6a517da4eee",
   "metadata": {},
   "outputs": [
    {
     "name": "stdout",
     "output_type": "stream",
     "text": [
      "ship-postal-code\n",
      "201301.0    1004\n",
      "122001.0     687\n",
      "560037.0     632\n",
      "560068.0     619\n",
      "560076.0     579\n",
      "            ... \n",
      "441908.0       1\n",
      "680591.0       1\n",
      "364060.0       1\n",
      "673581.0       1\n",
      "636304.0       1\n",
      "Name: count, Length: 9459, dtype: int64\n",
      "Null Values: 33\n"
     ]
    }
   ],
   "source": [
    "print(df_domestic['ship-postal-code'].value_counts())\n",
    "print(f'Null Values: {df_domestic['ship-postal-code'].isnull().sum()}')"
   ]
  },
  {
   "cell_type": "code",
   "execution_count": 59,
   "id": "1c460ab3-6d6f-4416-bb00-f3ce0e2c2038",
   "metadata": {},
   "outputs": [],
   "source": [
    "# Assigning 0 to null values and changing data type from float to int.\n",
    "df_domestic['ship-postal-code'] = df_domestic['ship-postal-code'].fillna(0)\n",
    "df_domestic['ship-postal-code'] = df_domestic['ship-postal-code'].astype(int)"
   ]
  },
  {
   "cell_type": "code",
   "execution_count": 60,
   "id": "6b26934e-ab8f-42b9-903d-22d48aa225b6",
   "metadata": {},
   "outputs": [
    {
     "data": {
      "text/plain": [
       "dtype('int64')"
      ]
     },
     "execution_count": 60,
     "metadata": {},
     "output_type": "execute_result"
    }
   ],
   "source": [
    "df_domestic['ship-postal-code'].dtype"
   ]
  },
  {
   "cell_type": "code",
   "execution_count": 61,
   "id": "9730a33b-3365-44b8-9f77-502d44dae253",
   "metadata": {},
   "outputs": [
    {
     "name": "stdout",
     "output_type": "stream",
     "text": [
      "ship-postal-code\n",
      "201301    1004\n",
      "122001     687\n",
      "560037     632\n",
      "560068     619\n",
      "560076     579\n",
      "          ... \n",
      "563116       1\n",
      "441908       1\n",
      "680591       1\n",
      "364060       1\n",
      "562138       1\n",
      "Name: count, Length: 9460, dtype: int64\n",
      "Null Values: 0\n"
     ]
    }
   ],
   "source": [
    "print(df_domestic['ship-postal-code'].value_counts())\n",
    "print(f'Null Values: {df_domestic['ship-postal-code'].isnull().sum()}')"
   ]
  },
  {
   "cell_type": "code",
   "execution_count": 62,
   "id": "ac3656a5-62b1-4537-a150-ce09ead1406b",
   "metadata": {},
   "outputs": [
    {
     "name": "stdout",
     "output_type": "stream",
     "text": [
      "B2B\n",
      "False    127933\n",
      "True        871\n",
      "Name: count, dtype: int64\n",
      "Null Values: 0\n"
     ]
    }
   ],
   "source": [
    "print(df_domestic['B2B'].value_counts())\n",
    "print(f'Null Values: {df_domestic['B2B'].isnull().sum()}')"
   ]
  },
  {
   "cell_type": "code",
   "execution_count": 63,
   "id": "8fa706db-9c61-4020-973c-ac131aedf787",
   "metadata": {},
   "outputs": [
    {
     "data": {
      "text/html": [
       "<div>\n",
       "<style scoped>\n",
       "    .dataframe tbody tr th:only-of-type {\n",
       "        vertical-align: middle;\n",
       "    }\n",
       "\n",
       "    .dataframe tbody tr th {\n",
       "        vertical-align: top;\n",
       "    }\n",
       "\n",
       "    .dataframe thead th {\n",
       "        text-align: right;\n",
       "    }\n",
       "</style>\n",
       "<table border=\"1\" class=\"dataframe\">\n",
       "  <thead>\n",
       "    <tr style=\"text-align: right;\">\n",
       "      <th></th>\n",
       "      <th>Order ID</th>\n",
       "      <th>Date</th>\n",
       "      <th>Status</th>\n",
       "      <th>Fulfilment</th>\n",
       "      <th>Sales Channel</th>\n",
       "      <th>ship-service-level</th>\n",
       "      <th>Style</th>\n",
       "      <th>SKU</th>\n",
       "      <th>Category</th>\n",
       "      <th>Size</th>\n",
       "      <th>ASIN</th>\n",
       "      <th>Courier Status</th>\n",
       "      <th>Qty</th>\n",
       "      <th>Amount</th>\n",
       "      <th>ship-city</th>\n",
       "      <th>Tier</th>\n",
       "      <th>ship-state</th>\n",
       "      <th>ship-postal-code</th>\n",
       "      <th>B2B</th>\n",
       "    </tr>\n",
       "    <tr>\n",
       "      <th>index</th>\n",
       "      <th></th>\n",
       "      <th></th>\n",
       "      <th></th>\n",
       "      <th></th>\n",
       "      <th></th>\n",
       "      <th></th>\n",
       "      <th></th>\n",
       "      <th></th>\n",
       "      <th></th>\n",
       "      <th></th>\n",
       "      <th></th>\n",
       "      <th></th>\n",
       "      <th></th>\n",
       "      <th></th>\n",
       "      <th></th>\n",
       "      <th></th>\n",
       "      <th></th>\n",
       "      <th></th>\n",
       "      <th></th>\n",
       "    </tr>\n",
       "  </thead>\n",
       "  <tbody>\n",
       "    <tr>\n",
       "      <th>0</th>\n",
       "      <td>405-8078784-5731545</td>\n",
       "      <td>2022-04-30</td>\n",
       "      <td>Returned</td>\n",
       "      <td>Merchant</td>\n",
       "      <td>Amazon.in</td>\n",
       "      <td>Standard</td>\n",
       "      <td>SET389</td>\n",
       "      <td>SET389-KR-NP-S</td>\n",
       "      <td>Set</td>\n",
       "      <td>S</td>\n",
       "      <td>B09KXVBD7Z</td>\n",
       "      <td>Unknown</td>\n",
       "      <td>0</td>\n",
       "      <td>647.62</td>\n",
       "      <td>Mumbai</td>\n",
       "      <td>Tier 1</td>\n",
       "      <td>Maharashtra</td>\n",
       "      <td>400081</td>\n",
       "      <td>False</td>\n",
       "    </tr>\n",
       "    <tr>\n",
       "      <th>1</th>\n",
       "      <td>171-9198151-1101146</td>\n",
       "      <td>2022-04-30</td>\n",
       "      <td>Delivered</td>\n",
       "      <td>Merchant</td>\n",
       "      <td>Amazon.in</td>\n",
       "      <td>Standard</td>\n",
       "      <td>JNE3781</td>\n",
       "      <td>JNE3781-KR-XXXL</td>\n",
       "      <td>kurta</td>\n",
       "      <td>3XL</td>\n",
       "      <td>B09K3WFS32</td>\n",
       "      <td>Shipped</td>\n",
       "      <td>1</td>\n",
       "      <td>406.00</td>\n",
       "      <td>Bengaluru</td>\n",
       "      <td>Tier 1</td>\n",
       "      <td>Karnataka</td>\n",
       "      <td>560085</td>\n",
       "      <td>False</td>\n",
       "    </tr>\n",
       "    <tr>\n",
       "      <th>2</th>\n",
       "      <td>404-0687676-7273146</td>\n",
       "      <td>2022-04-30</td>\n",
       "      <td>Delivered</td>\n",
       "      <td>Amazon</td>\n",
       "      <td>Amazon.in</td>\n",
       "      <td>Expedited</td>\n",
       "      <td>JNE3371</td>\n",
       "      <td>JNE3371-KR-XL</td>\n",
       "      <td>kurta</td>\n",
       "      <td>XL</td>\n",
       "      <td>B07WV4JV4D</td>\n",
       "      <td>Shipped</td>\n",
       "      <td>1</td>\n",
       "      <td>329.00</td>\n",
       "      <td>Mumbai</td>\n",
       "      <td>Tier 1</td>\n",
       "      <td>Maharashtra</td>\n",
       "      <td>410210</td>\n",
       "      <td>True</td>\n",
       "    </tr>\n",
       "  </tbody>\n",
       "</table>\n",
       "</div>"
      ],
      "text/plain": [
       "                  Order ID       Date     Status Fulfilment Sales Channel  \\\n",
       "index                                                                       \n",
       "0      405-8078784-5731545 2022-04-30   Returned   Merchant     Amazon.in   \n",
       "1      171-9198151-1101146 2022-04-30  Delivered   Merchant     Amazon.in   \n",
       "2      404-0687676-7273146 2022-04-30  Delivered     Amazon     Amazon.in   \n",
       "\n",
       "      ship-service-level    Style              SKU Category Size        ASIN  \\\n",
       "index                                                                          \n",
       "0               Standard   SET389   SET389-KR-NP-S      Set    S  B09KXVBD7Z   \n",
       "1               Standard  JNE3781  JNE3781-KR-XXXL    kurta  3XL  B09K3WFS32   \n",
       "2              Expedited  JNE3371    JNE3371-KR-XL    kurta   XL  B07WV4JV4D   \n",
       "\n",
       "      Courier Status  Qty  Amount  ship-city    Tier   ship-state  \\\n",
       "index                                                               \n",
       "0            Unknown    0  647.62     Mumbai  Tier 1  Maharashtra   \n",
       "1            Shipped    1  406.00  Bengaluru  Tier 1    Karnataka   \n",
       "2            Shipped    1  329.00     Mumbai  Tier 1  Maharashtra   \n",
       "\n",
       "       ship-postal-code    B2B  \n",
       "index                           \n",
       "0                400081  False  \n",
       "1                560085  False  \n",
       "2                410210   True  "
      ]
     },
     "execution_count": 63,
     "metadata": {},
     "output_type": "execute_result"
    }
   ],
   "source": [
    "df_domestic.head(3)"
   ]
  },
  {
   "cell_type": "markdown",
   "id": "02718818-68df-4cfb-abf2-db0f22fdf193",
   "metadata": {},
   "source": [
    "## Exporting Data"
   ]
  },
  {
   "cell_type": "code",
   "execution_count": 64,
   "id": "59ef3cff-a30f-4d48-92e7-6aeef87f23d0",
   "metadata": {},
   "outputs": [],
   "source": [
    "df_domestic.to_csv(\"Amazon Sale Report.csv\", index=False)"
   ]
  },
  {
   "cell_type": "markdown",
   "id": "82dc2625-827d-4f2d-8b4c-ab28ee8c50d5",
   "metadata": {},
   "source": [
    "## Exploratory Data Analysis"
   ]
  },
  {
   "cell_type": "code",
   "execution_count": 65,
   "id": "879caaee-70c8-4f0f-96af-3d2fded69bb4",
   "metadata": {},
   "outputs": [
    {
     "data": {
      "text/plain": [
       "(128804, 19)"
      ]
     },
     "execution_count": 65,
     "metadata": {},
     "output_type": "execute_result"
    }
   ],
   "source": [
    "df_domestic.shape"
   ]
  },
  {
   "cell_type": "code",
   "execution_count": 66,
   "id": "8f5fdaef-bad8-43b8-98b7-d1bb4b7db8e6",
   "metadata": {},
   "outputs": [
    {
     "data": {
      "text/html": [
       "<div>\n",
       "<style scoped>\n",
       "    .dataframe tbody tr th:only-of-type {\n",
       "        vertical-align: middle;\n",
       "    }\n",
       "\n",
       "    .dataframe tbody tr th {\n",
       "        vertical-align: top;\n",
       "    }\n",
       "\n",
       "    .dataframe thead th {\n",
       "        text-align: right;\n",
       "    }\n",
       "</style>\n",
       "<table border=\"1\" class=\"dataframe\">\n",
       "  <thead>\n",
       "    <tr style=\"text-align: right;\">\n",
       "      <th></th>\n",
       "      <th>Order ID</th>\n",
       "      <th>Date</th>\n",
       "      <th>Status</th>\n",
       "      <th>Fulfilment</th>\n",
       "      <th>Sales Channel</th>\n",
       "      <th>ship-service-level</th>\n",
       "      <th>Style</th>\n",
       "      <th>SKU</th>\n",
       "      <th>Category</th>\n",
       "      <th>Size</th>\n",
       "      <th>ASIN</th>\n",
       "      <th>Courier Status</th>\n",
       "      <th>Qty</th>\n",
       "      <th>Amount</th>\n",
       "      <th>ship-city</th>\n",
       "      <th>Tier</th>\n",
       "      <th>ship-state</th>\n",
       "      <th>ship-postal-code</th>\n",
       "      <th>B2B</th>\n",
       "    </tr>\n",
       "    <tr>\n",
       "      <th>index</th>\n",
       "      <th></th>\n",
       "      <th></th>\n",
       "      <th></th>\n",
       "      <th></th>\n",
       "      <th></th>\n",
       "      <th></th>\n",
       "      <th></th>\n",
       "      <th></th>\n",
       "      <th></th>\n",
       "      <th></th>\n",
       "      <th></th>\n",
       "      <th></th>\n",
       "      <th></th>\n",
       "      <th></th>\n",
       "      <th></th>\n",
       "      <th></th>\n",
       "      <th></th>\n",
       "      <th></th>\n",
       "      <th></th>\n",
       "    </tr>\n",
       "  </thead>\n",
       "  <tbody>\n",
       "    <tr>\n",
       "      <th>0</th>\n",
       "      <td>405-8078784-5731545</td>\n",
       "      <td>2022-04-30</td>\n",
       "      <td>Returned</td>\n",
       "      <td>Merchant</td>\n",
       "      <td>Amazon.in</td>\n",
       "      <td>Standard</td>\n",
       "      <td>SET389</td>\n",
       "      <td>SET389-KR-NP-S</td>\n",
       "      <td>Set</td>\n",
       "      <td>S</td>\n",
       "      <td>B09KXVBD7Z</td>\n",
       "      <td>Unknown</td>\n",
       "      <td>0</td>\n",
       "      <td>647.62</td>\n",
       "      <td>Mumbai</td>\n",
       "      <td>Tier 1</td>\n",
       "      <td>Maharashtra</td>\n",
       "      <td>400081</td>\n",
       "      <td>False</td>\n",
       "    </tr>\n",
       "    <tr>\n",
       "      <th>1</th>\n",
       "      <td>171-9198151-1101146</td>\n",
       "      <td>2022-04-30</td>\n",
       "      <td>Delivered</td>\n",
       "      <td>Merchant</td>\n",
       "      <td>Amazon.in</td>\n",
       "      <td>Standard</td>\n",
       "      <td>JNE3781</td>\n",
       "      <td>JNE3781-KR-XXXL</td>\n",
       "      <td>kurta</td>\n",
       "      <td>3XL</td>\n",
       "      <td>B09K3WFS32</td>\n",
       "      <td>Shipped</td>\n",
       "      <td>1</td>\n",
       "      <td>406.00</td>\n",
       "      <td>Bengaluru</td>\n",
       "      <td>Tier 1</td>\n",
       "      <td>Karnataka</td>\n",
       "      <td>560085</td>\n",
       "      <td>False</td>\n",
       "    </tr>\n",
       "    <tr>\n",
       "      <th>2</th>\n",
       "      <td>404-0687676-7273146</td>\n",
       "      <td>2022-04-30</td>\n",
       "      <td>Delivered</td>\n",
       "      <td>Amazon</td>\n",
       "      <td>Amazon.in</td>\n",
       "      <td>Expedited</td>\n",
       "      <td>JNE3371</td>\n",
       "      <td>JNE3371-KR-XL</td>\n",
       "      <td>kurta</td>\n",
       "      <td>XL</td>\n",
       "      <td>B07WV4JV4D</td>\n",
       "      <td>Shipped</td>\n",
       "      <td>1</td>\n",
       "      <td>329.00</td>\n",
       "      <td>Mumbai</td>\n",
       "      <td>Tier 1</td>\n",
       "      <td>Maharashtra</td>\n",
       "      <td>410210</td>\n",
       "      <td>True</td>\n",
       "    </tr>\n",
       "    <tr>\n",
       "      <th>3</th>\n",
       "      <td>403-9615377-8133951</td>\n",
       "      <td>2022-04-30</td>\n",
       "      <td>Returned</td>\n",
       "      <td>Merchant</td>\n",
       "      <td>Amazon.in</td>\n",
       "      <td>Standard</td>\n",
       "      <td>J0341</td>\n",
       "      <td>J0341-DR-L</td>\n",
       "      <td>Western Dress</td>\n",
       "      <td>L</td>\n",
       "      <td>B099NRCT7B</td>\n",
       "      <td>Unknown</td>\n",
       "      <td>0</td>\n",
       "      <td>753.33</td>\n",
       "      <td>Puducherry</td>\n",
       "      <td>Tier 3</td>\n",
       "      <td>Puducherry</td>\n",
       "      <td>605008</td>\n",
       "      <td>False</td>\n",
       "    </tr>\n",
       "    <tr>\n",
       "      <th>4</th>\n",
       "      <td>407-1069790-7240320</td>\n",
       "      <td>2022-04-30</td>\n",
       "      <td>Delivered</td>\n",
       "      <td>Amazon</td>\n",
       "      <td>Amazon.in</td>\n",
       "      <td>Expedited</td>\n",
       "      <td>JNE3671</td>\n",
       "      <td>JNE3671-TU-XXXL</td>\n",
       "      <td>Top</td>\n",
       "      <td>3XL</td>\n",
       "      <td>B098714BZP</td>\n",
       "      <td>Shipped</td>\n",
       "      <td>1</td>\n",
       "      <td>574.00</td>\n",
       "      <td>Chennai</td>\n",
       "      <td>Tier 1</td>\n",
       "      <td>Tamil Nadu</td>\n",
       "      <td>600073</td>\n",
       "      <td>False</td>\n",
       "    </tr>\n",
       "  </tbody>\n",
       "</table>\n",
       "</div>"
      ],
      "text/plain": [
       "                  Order ID       Date     Status Fulfilment Sales Channel  \\\n",
       "index                                                                       \n",
       "0      405-8078784-5731545 2022-04-30   Returned   Merchant     Amazon.in   \n",
       "1      171-9198151-1101146 2022-04-30  Delivered   Merchant     Amazon.in   \n",
       "2      404-0687676-7273146 2022-04-30  Delivered     Amazon     Amazon.in   \n",
       "3      403-9615377-8133951 2022-04-30   Returned   Merchant     Amazon.in   \n",
       "4      407-1069790-7240320 2022-04-30  Delivered     Amazon     Amazon.in   \n",
       "\n",
       "      ship-service-level    Style              SKU       Category Size  \\\n",
       "index                                                                    \n",
       "0               Standard   SET389   SET389-KR-NP-S            Set    S   \n",
       "1               Standard  JNE3781  JNE3781-KR-XXXL          kurta  3XL   \n",
       "2              Expedited  JNE3371    JNE3371-KR-XL          kurta   XL   \n",
       "3               Standard    J0341       J0341-DR-L  Western Dress    L   \n",
       "4              Expedited  JNE3671  JNE3671-TU-XXXL            Top  3XL   \n",
       "\n",
       "             ASIN Courier Status  Qty  Amount   ship-city    Tier  \\\n",
       "index                                                               \n",
       "0      B09KXVBD7Z        Unknown    0  647.62      Mumbai  Tier 1   \n",
       "1      B09K3WFS32        Shipped    1  406.00   Bengaluru  Tier 1   \n",
       "2      B07WV4JV4D        Shipped    1  329.00      Mumbai  Tier 1   \n",
       "3      B099NRCT7B        Unknown    0  753.33  Puducherry  Tier 3   \n",
       "4      B098714BZP        Shipped    1  574.00     Chennai  Tier 1   \n",
       "\n",
       "        ship-state  ship-postal-code    B2B  \n",
       "index                                        \n",
       "0      Maharashtra            400081  False  \n",
       "1        Karnataka            560085  False  \n",
       "2      Maharashtra            410210   True  \n",
       "3       Puducherry            605008  False  \n",
       "4       Tamil Nadu            600073  False  "
      ]
     },
     "execution_count": 66,
     "metadata": {},
     "output_type": "execute_result"
    }
   ],
   "source": [
    "df_domestic.head()"
   ]
  },
  {
   "cell_type": "code",
   "execution_count": 67,
   "id": "2d6e277c-cc7d-4ff8-8357-b7833893338b",
   "metadata": {},
   "outputs": [
    {
     "name": "stdout",
     "output_type": "stream",
     "text": [
      "<class 'pandas.core.frame.DataFrame'>\n",
      "Index: 128804 entries, 0 to 128974\n",
      "Data columns (total 19 columns):\n",
      " #   Column              Non-Null Count   Dtype         \n",
      "---  ------              --------------   -----         \n",
      " 0   Order ID            128804 non-null  object        \n",
      " 1   Date                128804 non-null  datetime64[ns]\n",
      " 2   Status              128804 non-null  object        \n",
      " 3   Fulfilment          128804 non-null  object        \n",
      " 4   Sales Channel       128804 non-null  object        \n",
      " 5   ship-service-level  128804 non-null  object        \n",
      " 6   Style               128804 non-null  object        \n",
      " 7   SKU                 128804 non-null  object        \n",
      " 8   Category            128804 non-null  object        \n",
      " 9   Size                128804 non-null  object        \n",
      " 10  ASIN                128804 non-null  object        \n",
      " 11  Courier Status      128804 non-null  object        \n",
      " 12  Qty                 128804 non-null  int64         \n",
      " 13  Amount              128804 non-null  float64       \n",
      " 14  ship-city           128804 non-null  object        \n",
      " 15  Tier                128804 non-null  object        \n",
      " 16  ship-state          128804 non-null  object        \n",
      " 17  ship-postal-code    128804 non-null  int64         \n",
      " 18  B2B                 128804 non-null  bool          \n",
      "dtypes: bool(1), datetime64[ns](1), float64(1), int64(2), object(14)\n",
      "memory usage: 18.8+ MB\n"
     ]
    }
   ],
   "source": [
    "df_domestic.info()"
   ]
  },
  {
   "cell_type": "markdown",
   "id": "872e93e1-3457-48cd-be07-195808d1eede",
   "metadata": {},
   "source": [
    "### Univariate Analysis"
   ]
  },
  {
   "cell_type": "code",
   "execution_count": 68,
   "id": "0243e61d-9f6a-426e-b246-7180ab7fb820",
   "metadata": {},
   "outputs": [
    {
     "data": {
      "text/html": [
       "<div>\n",
       "<style scoped>\n",
       "    .dataframe tbody tr th:only-of-type {\n",
       "        vertical-align: middle;\n",
       "    }\n",
       "\n",
       "    .dataframe tbody tr th {\n",
       "        vertical-align: top;\n",
       "    }\n",
       "\n",
       "    .dataframe thead th {\n",
       "        text-align: right;\n",
       "    }\n",
       "</style>\n",
       "<table border=\"1\" class=\"dataframe\">\n",
       "  <thead>\n",
       "    <tr style=\"text-align: right;\">\n",
       "      <th></th>\n",
       "      <th>Amount</th>\n",
       "      <th>Qty</th>\n",
       "    </tr>\n",
       "  </thead>\n",
       "  <tbody>\n",
       "    <tr>\n",
       "      <th>count</th>\n",
       "      <td>128804.000000</td>\n",
       "      <td>128804.000000</td>\n",
       "    </tr>\n",
       "    <tr>\n",
       "      <th>mean</th>\n",
       "      <td>609.383206</td>\n",
       "      <td>0.904421</td>\n",
       "    </tr>\n",
       "    <tr>\n",
       "      <th>std</th>\n",
       "      <td>313.379566</td>\n",
       "      <td>0.313392</td>\n",
       "    </tr>\n",
       "    <tr>\n",
       "      <th>min</th>\n",
       "      <td>0.000000</td>\n",
       "      <td>0.000000</td>\n",
       "    </tr>\n",
       "    <tr>\n",
       "      <th>25%</th>\n",
       "      <td>413.000000</td>\n",
       "      <td>1.000000</td>\n",
       "    </tr>\n",
       "    <tr>\n",
       "      <th>50%</th>\n",
       "      <td>583.040000</td>\n",
       "      <td>1.000000</td>\n",
       "    </tr>\n",
       "    <tr>\n",
       "      <th>75%</th>\n",
       "      <td>771.000000</td>\n",
       "      <td>1.000000</td>\n",
       "    </tr>\n",
       "    <tr>\n",
       "      <th>max</th>\n",
       "      <td>5584.000000</td>\n",
       "      <td>15.000000</td>\n",
       "    </tr>\n",
       "  </tbody>\n",
       "</table>\n",
       "</div>"
      ],
      "text/plain": [
       "              Amount            Qty\n",
       "count  128804.000000  128804.000000\n",
       "mean      609.383206       0.904421\n",
       "std       313.379566       0.313392\n",
       "min         0.000000       0.000000\n",
       "25%       413.000000       1.000000\n",
       "50%       583.040000       1.000000\n",
       "75%       771.000000       1.000000\n",
       "max      5584.000000      15.000000"
      ]
     },
     "execution_count": 68,
     "metadata": {},
     "output_type": "execute_result"
    }
   ],
   "source": [
    "df_domestic[['Amount',\"Qty\"]].describe()"
   ]
  },
  {
   "cell_type": "code",
   "execution_count": 69,
   "id": "b2095553-f798-4d5c-ba25-ecdc9cc2ee51",
   "metadata": {},
   "outputs": [
    {
     "data": {
      "image/png": "[encoded data removed]",
      "text/plain": [
       "<Figure size 600x400 with 1 Axes>"
      ]
     },
     "metadata": {},
     "output_type": "display_data"
    }
   ],
   "source": [
    "# Checking Distribution of 'Amount'\n",
    "\n",
    "plt.figure(figsize=(6,4))\n",
    "sns.histplot(df_domestic['Amount'], bins=15, kde = True)\n",
    "plt.title('Distribution of Sales Amount')\n",
    "plt.show()"
   ]
  },
  {
   "cell_type": "markdown",
   "id": "ca910f2a-3d8d-4e81-a681-a6a588388455",
   "metadata": {},
   "source": [
    "* The Value of most orders is in under 1000 INR\n",
    "* Highest Sale Amount is 5584 INR and as seen in the graph there are significant number of outliers."
   ]
  },
  {
   "cell_type": "code",
   "execution_count": 70,
   "id": "a084fa42-f896-49fe-aced-af66ddf68689",
   "metadata": {},
   "outputs": [
    {
     "data": {
      "image/png": "[encoded data removed]",
      "text/plain": [
       "<Figure size 600x400 with 1 Axes>"
      ]
     },
     "metadata": {},
     "output_type": "display_data"
    }
   ],
   "source": [
    "# Lets check the most ordered quantity\n",
    "quantity = df_domestic['Qty'].value_counts().sort_index()\n",
    "\n",
    "plt.figure(figsize=(6, 4))\n",
    "sns.barplot(x=quantity.index, y=quantity.values)\n",
    "plt.title('Frequency of Quantity Ordered')\n",
    "plt.xlabel('Quantity')\n",
    "plt.ylabel('Number of Orders')\n",
    "plt.show()"
   ]
  },
  {
   "cell_type": "markdown",
   "id": "7b8ec0f6-5af2-444d-8620-0e933e6e81fa",
   "metadata": {},
   "source": [
    "* Most orders have quantity 1. and 0 quantity indicating cancelled or returned orders.\n",
    "* This pattern confirms typical Bussiness to Customer behaviour."
   ]
  },
  {
   "cell_type": "code",
   "execution_count": 71,
   "id": "773c3470-fe63-4ed2-a216-5059c349a6a1",
   "metadata": {},
   "outputs": [
    {
     "data": {
      "image/png": "[encoded data removed]",
      "text/plain": [
       "<Figure size 600x400 with 1 Axes>"
      ]
     },
     "metadata": {},
     "output_type": "display_data"
    }
   ],
   "source": [
    "# Lets check B2B and B2C Distribution\n",
    "df_domestic['Customer_Type'] = df_domestic['B2B'].map({True: 'B2B', False: 'B2C'})\n",
    "\n",
    "plt.figure(figsize=(6, 4))\n",
    "sns.countplot(df_domestic, x = 'Customer_Type')\n",
    "plt.title('Customer Distribution')\n",
    "plt.xlabel('Customer Type')\n",
    "plt.ylabel('Number of orders')\n",
    "plt.show()"
   ]
  },
  {
   "cell_type": "markdown",
   "id": "514f6831-ffa7-43aa-af14-5873a2503a0d",
   "metadata": {},
   "source": [
    "* The plot clearly indicates that the majority of sales are directed toward individual customers."
   ]
  },
  {
   "cell_type": "code",
   "execution_count": 72,
   "id": "29ae5d3a-b1ee-428a-9141-838c527b18c0",
   "metadata": {},
   "outputs": [
    {
     "data": {
      "image/png": "[encoded data removed]",
      "text/plain": [
       "<Figure size 600x400 with 1 Axes>"
      ]
     },
     "metadata": {},
     "output_type": "display_data"
    }
   ],
   "source": [
    "# Order Status\n",
    "\n",
    "plt.figure(figsize=(6, 4))\n",
    "sns.countplot(df_domestic, x= 'Status')\n",
    "plt.title(\"Status wise Distribution of Orders\")\n",
    "plt.ylabel(\"Number of Orders\")\n",
    "plt.show()"
   ]
  },
  {
   "cell_type": "markdown",
   "id": "07e38dbd-54ae-4763-8e94-4b1ba583b85e",
   "metadata": {},
   "source": [
    "* Over 1 lakh orders are dilivered which shows strong fulfillment\n",
    "* Returned Orders are above 20000 which might indicate issues related quality of product or dissatisfaction of customer or maybe incorrect deliveries. This needs attention."
   ]
  },
  {
   "cell_type": "code",
   "execution_count": 73,
   "id": "8d352d23-35bd-4c6f-a486-2f8110ec85f4",
   "metadata": {},
   "outputs": [
    {
     "data": {
      "text/plain": [
       "Fulfilment\n",
       "Amazon      89550\n",
       "Merchant    39254\n",
       "Name: count, dtype: int64"
      ]
     },
     "execution_count": 73,
     "metadata": {},
     "output_type": "execute_result"
    }
   ],
   "source": [
    "df_domestic[\"Fulfilment\"].value_counts()"
   ]
  },
  {
   "cell_type": "code",
   "execution_count": 74,
   "id": "833cb6ae-b147-43ef-8477-c2ab77745cc1",
   "metadata": {},
   "outputs": [
    {
     "data": {
      "image/png": "[encoded data removed]",
      "text/plain": [
       "<Figure size 600x400 with 1 Axes>"
      ]
     },
     "metadata": {},
     "output_type": "display_data"
    }
   ],
   "source": [
    "# Amazon Vs. Merchant Fullfillment\n",
    "\n",
    "plt.figure(figsize=(6, 4))\n",
    "sns.countplot(df_domestic, x= 'Fulfilment')\n",
    "plt.title(\"Order Fullfillment\")\n",
    "plt.ylabel(\"Number of Orders\")\n",
    "plt.show()"
   ]
  },
  {
   "cell_type": "markdown",
   "id": "d8e3bde2-ce14-4be6-9b13-ab6f1a651168",
   "metadata": {},
   "source": [
    "* Approximately 70% of orders are fulfilled by Amazon and 30% by Merchant"
   ]
  },
  {
   "cell_type": "code",
   "execution_count": 75,
   "id": "ec859392-0acd-497e-ae76-908c634a9159",
   "metadata": {},
   "outputs": [
    {
     "data": {
      "text/plain": [
       "Category\n",
       "Set              50209\n",
       "kurta            49801\n",
       "Western Dress    15491\n",
       "Top              10613\n",
       "Ethnic Dress      1158\n",
       "Blouse             925\n",
       "Bottom             440\n",
       "Saree              164\n",
       "Dupatta              3\n",
       "Name: count, dtype: int64"
      ]
     },
     "execution_count": 75,
     "metadata": {},
     "output_type": "execute_result"
    }
   ],
   "source": [
    "df_domestic[\"Category\"].value_counts()"
   ]
  },
  {
   "cell_type": "code",
   "execution_count": 76,
   "id": "fc32fbed-ebf7-495a-9206-3d2d28376c7f",
   "metadata": {},
   "outputs": [
    {
     "data": {
      "image/png": "[encoded data removed]",
      "text/plain": [
       "<Figure size 600x400 with 1 Axes>"
      ]
     },
     "metadata": {},
     "output_type": "display_data"
    }
   ],
   "source": [
    "# Category Count\n",
    "category_dist = df_domestic[\"Category\"].value_counts()\n",
    "plt.figure(figsize=(6, 4))\n",
    "sns.barplot(y=category_dist.index, x = category_dist.values, hue = category_dist.index,palette = 'pastel')\n",
    "plt.ylabel('Categories')\n",
    "plt.xlabel('Number of orders')\n",
    "plt.show()"
   ]
  },
  {
   "cell_type": "markdown",
   "id": "a6e6f0f4-78d5-44d4-b231-86a0b8144847",
   "metadata": {},
   "source": [
    "* Top selling product categories are Set and Kurta, while Western Dress and Top also making descent sale.\n",
    "* Categories like Bottom, Saree, Dupatta have very minimal sale."
   ]
  },
  {
   "cell_type": "markdown",
   "id": "c4fa32c1-fc79-4365-86be-a2b619c6d789",
   "metadata": {},
   "source": [
    "## Bivariate Analysis"
   ]
  },
  {
   "cell_type": "code",
   "execution_count": 77,
   "id": "e87bc1fe-e7a9-48d7-8325-041df635ce17",
   "metadata": {},
   "outputs": [
    {
     "data": {
      "text/html": [
       "<div>\n",
       "<style scoped>\n",
       "    .dataframe tbody tr th:only-of-type {\n",
       "        vertical-align: middle;\n",
       "    }\n",
       "\n",
       "    .dataframe tbody tr th {\n",
       "        vertical-align: top;\n",
       "    }\n",
       "\n",
       "    .dataframe thead th {\n",
       "        text-align: right;\n",
       "    }\n",
       "</style>\n",
       "<table border=\"1\" class=\"dataframe\">\n",
       "  <thead>\n",
       "    <tr style=\"text-align: right;\">\n",
       "      <th></th>\n",
       "      <th>Order ID</th>\n",
       "      <th>Date</th>\n",
       "      <th>Status</th>\n",
       "      <th>Fulfilment</th>\n",
       "      <th>Sales Channel</th>\n",
       "      <th>ship-service-level</th>\n",
       "      <th>Style</th>\n",
       "      <th>SKU</th>\n",
       "      <th>Category</th>\n",
       "      <th>Size</th>\n",
       "      <th>ASIN</th>\n",
       "      <th>Courier Status</th>\n",
       "      <th>Qty</th>\n",
       "      <th>Amount</th>\n",
       "      <th>ship-city</th>\n",
       "      <th>Tier</th>\n",
       "      <th>ship-state</th>\n",
       "      <th>ship-postal-code</th>\n",
       "      <th>B2B</th>\n",
       "      <th>Customer_Type</th>\n",
       "    </tr>\n",
       "    <tr>\n",
       "      <th>index</th>\n",
       "      <th></th>\n",
       "      <th></th>\n",
       "      <th></th>\n",
       "      <th></th>\n",
       "      <th></th>\n",
       "      <th></th>\n",
       "      <th></th>\n",
       "      <th></th>\n",
       "      <th></th>\n",
       "      <th></th>\n",
       "      <th></th>\n",
       "      <th></th>\n",
       "      <th></th>\n",
       "      <th></th>\n",
       "      <th></th>\n",
       "      <th></th>\n",
       "      <th></th>\n",
       "      <th></th>\n",
       "      <th></th>\n",
       "      <th></th>\n",
       "    </tr>\n",
       "  </thead>\n",
       "  <tbody>\n",
       "    <tr>\n",
       "      <th>0</th>\n",
       "      <td>405-8078784-5731545</td>\n",
       "      <td>2022-04-30</td>\n",
       "      <td>Returned</td>\n",
       "      <td>Merchant</td>\n",
       "      <td>Amazon.in</td>\n",
       "      <td>Standard</td>\n",
       "      <td>SET389</td>\n",
       "      <td>SET389-KR-NP-S</td>\n",
       "      <td>Set</td>\n",
       "      <td>S</td>\n",
       "      <td>B09KXVBD7Z</td>\n",
       "      <td>Unknown</td>\n",
       "      <td>0</td>\n",
       "      <td>647.62</td>\n",
       "      <td>Mumbai</td>\n",
       "      <td>Tier 1</td>\n",
       "      <td>Maharashtra</td>\n",
       "      <td>400081</td>\n",
       "      <td>False</td>\n",
       "      <td>B2C</td>\n",
       "    </tr>\n",
       "    <tr>\n",
       "      <th>1</th>\n",
       "      <td>171-9198151-1101146</td>\n",
       "      <td>2022-04-30</td>\n",
       "      <td>Delivered</td>\n",
       "      <td>Merchant</td>\n",
       "      <td>Amazon.in</td>\n",
       "      <td>Standard</td>\n",
       "      <td>JNE3781</td>\n",
       "      <td>JNE3781-KR-XXXL</td>\n",
       "      <td>kurta</td>\n",
       "      <td>3XL</td>\n",
       "      <td>B09K3WFS32</td>\n",
       "      <td>Shipped</td>\n",
       "      <td>1</td>\n",
       "      <td>406.00</td>\n",
       "      <td>Bengaluru</td>\n",
       "      <td>Tier 1</td>\n",
       "      <td>Karnataka</td>\n",
       "      <td>560085</td>\n",
       "      <td>False</td>\n",
       "      <td>B2C</td>\n",
       "    </tr>\n",
       "    <tr>\n",
       "      <th>2</th>\n",
       "      <td>404-0687676-7273146</td>\n",
       "      <td>2022-04-30</td>\n",
       "      <td>Delivered</td>\n",
       "      <td>Amazon</td>\n",
       "      <td>Amazon.in</td>\n",
       "      <td>Expedited</td>\n",
       "      <td>JNE3371</td>\n",
       "      <td>JNE3371-KR-XL</td>\n",
       "      <td>kurta</td>\n",
       "      <td>XL</td>\n",
       "      <td>B07WV4JV4D</td>\n",
       "      <td>Shipped</td>\n",
       "      <td>1</td>\n",
       "      <td>329.00</td>\n",
       "      <td>Mumbai</td>\n",
       "      <td>Tier 1</td>\n",
       "      <td>Maharashtra</td>\n",
       "      <td>410210</td>\n",
       "      <td>True</td>\n",
       "      <td>B2B</td>\n",
       "    </tr>\n",
       "    <tr>\n",
       "      <th>3</th>\n",
       "      <td>403-9615377-8133951</td>\n",
       "      <td>2022-04-30</td>\n",
       "      <td>Returned</td>\n",
       "      <td>Merchant</td>\n",
       "      <td>Amazon.in</td>\n",
       "      <td>Standard</td>\n",
       "      <td>J0341</td>\n",
       "      <td>J0341-DR-L</td>\n",
       "      <td>Western Dress</td>\n",
       "      <td>L</td>\n",
       "      <td>B099NRCT7B</td>\n",
       "      <td>Unknown</td>\n",
       "      <td>0</td>\n",
       "      <td>753.33</td>\n",
       "      <td>Puducherry</td>\n",
       "      <td>Tier 3</td>\n",
       "      <td>Puducherry</td>\n",
       "      <td>605008</td>\n",
       "      <td>False</td>\n",
       "      <td>B2C</td>\n",
       "    </tr>\n",
       "    <tr>\n",
       "      <th>4</th>\n",
       "      <td>407-1069790-7240320</td>\n",
       "      <td>2022-04-30</td>\n",
       "      <td>Delivered</td>\n",
       "      <td>Amazon</td>\n",
       "      <td>Amazon.in</td>\n",
       "      <td>Expedited</td>\n",
       "      <td>JNE3671</td>\n",
       "      <td>JNE3671-TU-XXXL</td>\n",
       "      <td>Top</td>\n",
       "      <td>3XL</td>\n",
       "      <td>B098714BZP</td>\n",
       "      <td>Shipped</td>\n",
       "      <td>1</td>\n",
       "      <td>574.00</td>\n",
       "      <td>Chennai</td>\n",
       "      <td>Tier 1</td>\n",
       "      <td>Tamil Nadu</td>\n",
       "      <td>600073</td>\n",
       "      <td>False</td>\n",
       "      <td>B2C</td>\n",
       "    </tr>\n",
       "  </tbody>\n",
       "</table>\n",
       "</div>"
      ],
      "text/plain": [
       "                  Order ID       Date     Status Fulfilment Sales Channel  \\\n",
       "index                                                                       \n",
       "0      405-8078784-5731545 2022-04-30   Returned   Merchant     Amazon.in   \n",
       "1      171-9198151-1101146 2022-04-30  Delivered   Merchant     Amazon.in   \n",
       "2      404-0687676-7273146 2022-04-30  Delivered     Amazon     Amazon.in   \n",
       "3      403-9615377-8133951 2022-04-30   Returned   Merchant     Amazon.in   \n",
       "4      407-1069790-7240320 2022-04-30  Delivered     Amazon     Amazon.in   \n",
       "\n",
       "      ship-service-level    Style              SKU       Category Size  \\\n",
       "index                                                                    \n",
       "0               Standard   SET389   SET389-KR-NP-S            Set    S   \n",
       "1               Standard  JNE3781  JNE3781-KR-XXXL          kurta  3XL   \n",
       "2              Expedited  JNE3371    JNE3371-KR-XL          kurta   XL   \n",
       "3               Standard    J0341       J0341-DR-L  Western Dress    L   \n",
       "4              Expedited  JNE3671  JNE3671-TU-XXXL            Top  3XL   \n",
       "\n",
       "             ASIN Courier Status  Qty  Amount   ship-city    Tier  \\\n",
       "index                                                               \n",
       "0      B09KXVBD7Z        Unknown    0  647.62      Mumbai  Tier 1   \n",
       "1      B09K3WFS32        Shipped    1  406.00   Bengaluru  Tier 1   \n",
       "2      B07WV4JV4D        Shipped    1  329.00      Mumbai  Tier 1   \n",
       "3      B099NRCT7B        Unknown    0  753.33  Puducherry  Tier 3   \n",
       "4      B098714BZP        Shipped    1  574.00     Chennai  Tier 1   \n",
       "\n",
       "        ship-state  ship-postal-code    B2B Customer_Type  \n",
       "index                                                      \n",
       "0      Maharashtra            400081  False           B2C  \n",
       "1        Karnataka            560085  False           B2C  \n",
       "2      Maharashtra            410210   True           B2B  \n",
       "3       Puducherry            605008  False           B2C  \n",
       "4       Tamil Nadu            600073  False           B2C  "
      ]
     },
     "execution_count": 77,
     "metadata": {},
     "output_type": "execute_result"
    }
   ],
   "source": [
    "df_domestic.head()"
   ]
  },
  {
   "cell_type": "code",
   "execution_count": 78,
   "id": "c56ba118-68e4-4566-a9a5-58fecf1a477b",
   "metadata": {},
   "outputs": [
    {
     "name": "stdout",
     "output_type": "stream",
     "text": [
      "     Month       Amount    Qty\n",
      "0  2022-04  28838708.32  44206\n",
      "1  2022-05  26226476.75  38011\n",
      "2  2022-06  23425809.38  34276\n"
     ]
    }
   ],
   "source": [
    "# Monthly Revenue and Quantity of various products sold\n",
    "\n",
    "df_domestic[\"Month\"] = df_domestic['Date'].dt.to_period('M')\n",
    "\n",
    "monthly_stats = df_domestic.groupby('Month').agg({\n",
    "    \"Amount\": 'sum',\n",
    "    \"Qty\":'sum'\n",
    "}).reset_index()\n",
    "\n",
    "monthly_stats['Month'] = monthly_stats['Month'].astype(str)\n",
    "print(monthly_stats)"
   ]
  },
  {
   "cell_type": "code",
   "execution_count": 79,
   "id": "303ce6f9-eea6-4e47-a487-843ccc744bb6",
   "metadata": {},
   "outputs": [
    {
     "data": {
      "image/png": "[encoded data removed]",
      "text/plain": [
       "<Figure size 600x400 with 1 Axes>"
      ]
     },
     "metadata": {},
     "output_type": "display_data"
    }
   ],
   "source": [
    "plt.figure(figsize=(6,4))\n",
    "\n",
    "monthly_stats['Amount_Cr'] = monthly_stats['Amount']/1e7\n",
    "sns.lineplot(data=monthly_stats, x='Month', y='Amount_Cr', marker='o', color='teal')\n",
    "plt.title('Monthly Sales Amount')\n",
    "plt.xlabel('Month')\n",
    "plt.ylabel('Total Sales in Cr (INR)')\n",
    "plt.xticks(rotation=45)\n",
    "plt.grid(True)\n",
    "plt.tight_layout()\n",
    "plt.show()"
   ]
  },
  {
   "cell_type": "code",
   "execution_count": 80,
   "id": "068af928-d87b-4953-a2a6-98da8c10415f",
   "metadata": {},
   "outputs": [
    {
     "data": {
      "image/png": "[encoded data removed]",
      "text/plain": [
       "<Figure size 600x400 with 1 Axes>"
      ]
     },
     "metadata": {},
     "output_type": "display_data"
    }
   ],
   "source": [
    "plt.figure(figsize=(6,4))\n",
    "sns.lineplot(data=monthly_stats, x='Month', y='Qty', marker='o', color='teal')\n",
    "plt.title('Monthly Ordered Quantity')\n",
    "plt.xlabel('Month')\n",
    "plt.ylabel('Total Quantity Ordered')\n",
    "plt.xticks(rotation=45)\n",
    "plt.grid(True)\n",
    "plt.tight_layout()\n",
    "plt.show()"
   ]
  },
  {
   "cell_type": "markdown",
   "id": "3c9aa37f-51fa-4392-8850-581da26f7055",
   "metadata": {},
   "source": [
    "### Insight:\n",
    "- Month of April has the highest sale of 2.88 Cr with over 44,200 units sold\n",
    "- Yet it is observed that both sales and ordered quantity has declined over the quarter 2."
   ]
  },
  {
   "cell_type": "code",
   "execution_count": 81,
   "id": "76011c22-19d9-4c92-80b7-1d0ee8b557e1",
   "metadata": {},
   "outputs": [],
   "source": [
    "# Lets look into Category wise Sales Patterns.\n",
    "Category_wise_sales = df_domestic.groupby([\"Category\"])['Amount'].sum().sort_values(ascending = False)"
   ]
  },
  {
   "cell_type": "code",
   "execution_count": 82,
   "id": "e7d82eeb-3aa2-4e1f-b7cf-479d95b716d7",
   "metadata": {},
   "outputs": [
    {
     "data": {
      "text/plain": [
       "Category\n",
       "Set              39150240.03\n",
       "kurta            21265290.13\n",
       "Western Dress    11208419.41\n",
       "Top               5343281.30\n",
       "Ethnic Dress       790118.66\n",
       "Blouse             458128.18\n",
       "Bottom             150667.98\n",
       "Saree              123933.76\n",
       "Dupatta               915.00\n",
       "Name: Amount, dtype: float64"
      ]
     },
     "execution_count": 82,
     "metadata": {},
     "output_type": "execute_result"
    }
   ],
   "source": [
    "Category_wise_sales"
   ]
  },
  {
   "cell_type": "code",
   "execution_count": 83,
   "id": "90b4b8d8-685f-402f-96ac-8d9a1287e65d",
   "metadata": {},
   "outputs": [
    {
     "data": {
      "image/png": "[encoded data removed]",
      "text/plain": [
       "<Figure size 600x400 with 1 Axes>"
      ]
     },
     "metadata": {},
     "output_type": "display_data"
    }
   ],
   "source": [
    "plt.figure(figsize=(6,4))\n",
    "sns.barplot(x=Category_wise_sales.values, y =Category_wise_sales.index, hue =Category_wise_sales.index)\n",
    "plt.title('Total Sales By Category')\n",
    "plt.xlabel('Total Amount (Cr)')\n",
    "plt.show()"
   ]
  },
  {
   "cell_type": "code",
   "execution_count": 84,
   "id": "5357b3fc-6dfb-4306-b4f5-e7fbf8c2863a",
   "metadata": {},
   "outputs": [],
   "source": [
    "# Sales and Quantity ordered by Tiers"
   ]
  },
  {
   "cell_type": "code",
   "execution_count": 85,
   "id": "2a771334-3c81-4309-91bd-3cb1a2d2cb72",
   "metadata": {},
   "outputs": [
    {
     "data": {
      "image/png": "[encoded data removed]",
      "text/plain": [
       "<Figure size 600x400 with 2 Axes>"
      ]
     },
     "metadata": {},
     "output_type": "display_data"
    }
   ],
   "source": [
    "tier_stats = df_domestic.groupby(by='Tier')[['Amount',\"Qty\"]].sum().sort_values('Amount', ascending=False).reset_index()\n",
    "tier_stats['Amount_Cr'] = tier_stats['Amount'] / 1e7\n",
    "\n",
    "plt.figure(figsize=(6,4))\n",
    "\n",
    "bar = sns.barplot(data=tier_stats, x='Tier', y='Amount_Cr', hue = 'Tier', palette='Blues')\n",
    "\n",
    "line = bar.twinx()\n",
    "line.plot(tier_stats['Tier'],tier_stats['Qty'], color='darkred', marker='o', label='Quantity Ordered')\n",
    "\n",
    "bar.set_ylabel('Sales Amount in Cr', color='green')\n",
    "line.set_ylabel('Quantity Ordered', color='darkred')\n",
    "plt.title('Tier-wise Sales and Orders (Q2 2022)')\n",
    "plt.grid(True)\n",
    "plt.tight_layout()\n",
    "plt.show()"
   ]
  },
  {
   "cell_type": "code",
   "execution_count": 86,
   "id": "b05e975c-d2c2-4a98-bae0-bc6f05232e54",
   "metadata": {},
   "outputs": [
    {
     "data": {
      "text/html": [
       "<div>\n",
       "<style scoped>\n",
       "    .dataframe tbody tr th:only-of-type {\n",
       "        vertical-align: middle;\n",
       "    }\n",
       "\n",
       "    .dataframe tbody tr th {\n",
       "        vertical-align: top;\n",
       "    }\n",
       "\n",
       "    .dataframe thead th {\n",
       "        text-align: right;\n",
       "    }\n",
       "</style>\n",
       "<table border=\"1\" class=\"dataframe\">\n",
       "  <thead>\n",
       "    <tr style=\"text-align: right;\">\n",
       "      <th></th>\n",
       "      <th>ship-city</th>\n",
       "    </tr>\n",
       "    <tr>\n",
       "      <th>Tier</th>\n",
       "      <th></th>\n",
       "    </tr>\n",
       "  </thead>\n",
       "  <tbody>\n",
       "    <tr>\n",
       "      <th>Tier 1</th>\n",
       "      <td>8</td>\n",
       "    </tr>\n",
       "    <tr>\n",
       "      <th>Tier 2</th>\n",
       "      <td>32</td>\n",
       "    </tr>\n",
       "    <tr>\n",
       "      <th>Tier 3</th>\n",
       "      <td>4944</td>\n",
       "    </tr>\n",
       "  </tbody>\n",
       "</table>\n",
       "</div>"
      ],
      "text/plain": [
       "        ship-city\n",
       "Tier             \n",
       "Tier 1          8\n",
       "Tier 2         32\n",
       "Tier 3       4944"
      ]
     },
     "execution_count": 86,
     "metadata": {},
     "output_type": "execute_result"
    }
   ],
   "source": [
    "df_domestic[['ship-city', 'Tier']].drop_duplicates().groupby('Tier').count()"
   ]
  },
  {
   "cell_type": "markdown",
   "id": "952c52b3-3794-4f62-a1de-e2768902c6d0",
   "metadata": {},
   "source": [
    "### Insight:\n",
    "* Tier 1 cities contributed the highest revenue and order volume, highlighting high customer value and purchasing power concentrated in major metropolitan areas.\n",
    "* Surprisingly, Tier 3 cities despite being around 4,944 in number generated nearly the same revenue as Tier 1, showing that the long-tail of small towns collectively forms a massive market.\n",
    "* Tier 2 cities contributed noticeably less, indicating either a mid-market gap in demand or weaker sales penetration compared to Tier 1 and Tier 3 regions."
   ]
  },
  {
   "cell_type": "code",
   "execution_count": 87,
   "id": "eef1f7ab-542d-43f9-90ff-1284dd6dfcec",
   "metadata": {},
   "outputs": [
    {
     "name": "stdout",
     "output_type": "stream",
     "text": [
      "Status  Returned  Delivered  Pending  Return Rate (%)\n",
      "Tier                                                 \n",
      "Tier 1      7629      46395      396        14.018743\n",
      "Tier 2      3609      20140      178        15.083379\n",
      "Tier 3      9190      40859      408        18.213528\n"
     ]
    }
   ],
   "source": [
    "# Tier wise count of each Delivery Status\n",
    "tier_status_counts = df_domestic.groupby(['Tier', 'Status']).size().unstack().fillna(0)\n",
    "\n",
    "tier_status_counts['Return Rate (%)'] = (tier_status_counts['Returned'] / \n",
    "                                         (tier_status_counts['Delivered'] + tier_status_counts['Returned'] + tier_status_counts['Pending'])) * 100\n",
    "\n",
    "print(tier_status_counts[['Returned', 'Delivered', 'Pending', 'Return Rate (%)']])"
   ]
  },
  {
   "cell_type": "code",
   "execution_count": 88,
   "id": "e097b945-cadf-4c3f-8506-23689da2d4bf",
   "metadata": {},
   "outputs": [
    {
     "data": {
      "image/png": "[encoded data removed]",
      "text/plain": [
       "<Figure size 600x400 with 1 Axes>"
      ]
     },
     "metadata": {},
     "output_type": "display_data"
    }
   ],
   "source": [
    "tier_status = df_domestic.groupby(['Tier', 'Status']).size().unstack().fillna(0)\n",
    "\n",
    "tier_status.plot(kind='bar', stacked=True, figsize=(6, 4), colormap='viridis')\n",
    "\n",
    "plt.title('Tier-wise Order Status Distribution')\n",
    "plt.xlabel('Tier')\n",
    "plt.ylabel('Number of Orders')\n",
    "plt.legend(title='Status')\n",
    "plt.grid(axis='y', linestyle='--', alpha=0.7)\n",
    "plt.tight_layout()\n",
    "plt.show()"
   ]
  },
  {
   "cell_type": "markdown",
   "id": "2f023ea4-dc1e-491b-bbe0-7095172ef539",
   "metadata": {},
   "source": [
    "### Insight\n",
    "\n",
    "* Tier 1 cities had the highest number of delivered orders and the lowest return rate at ~14%, as it might have better and efficient fulfillment and higher customer satisfaction in metro regions.\n",
    "\n",
    "* Tier 2 cities saw moderate order volume, but a slightly higher return rate of ~15%, which may be the result of service quality gaps.\n",
    "\n",
    "* whereas Tier 3 cities, despite being the largest group by location count, had a significantly higher return rate at ~18%, which might indicate Logistics challenges."
   ]
  },
  {
   "cell_type": "markdown",
   "id": "f3ab73d8-319b-4923-9e37-35449d10b368",
   "metadata": {},
   "source": [
    "## 📌 Final Summary & Business Insights\n",
    "\n",
    "After performing EDA on Amazon India sales data for Q2 2022, we derived the following key insights:\n",
    "\n",
    "- **Category Performance**: Certain product categories significantly outperform others in terms of revenue. These categories should be prioritized in marketing and inventory planning.\n",
    "- **Tier Analysis**:\n",
    "  - **Tier 1** cities lead in both sales volume and fulfillment efficiency.\n",
    "  - **Tier 3** cities, although small individually, collectively contribute as much as Tier 1 in revenue, highlighting their strategic importance.\n",
    "  - **Tier 2** cities underperform and could benefit from targeted strategies.\n",
    "- **Returns and Fulfillment**: Return rates are highest in Tier 3, likely due to logistical challenges or unmet expectations. Fulfillment improvement in these areas could yield better retention and profitability.\n",
    "\n",
    "## ✅ Recommendations:\n",
    "- Focus on improving delivery and customer service in Tier 3 cities.\n",
    "- Optimize inventory and marketing for top-performing categories.\n",
    "- Investigate why Tier 2 cities are lagging—consider promotions, faster delivery, or localized strategies.\n",
    "\n",
    "---"
   ]
  },
  {
   "cell_type": "code",
   "execution_count": null,
   "id": "0d464141-6afe-439b-9342-d8d09fca9e21",
   "metadata": {},
   "outputs": [],
   "source": []
  }
 ],
 "metadata": {
  "kernelspec": {
   "display_name": "Python 3 (ipykernel)",
   "language": "python",
   "name": "python3"
  },
  "language_info": {
   "codemirror_mode": {
    "name": "ipython",
    "version": 3
   },
   "file_extension": ".py",
   "mimetype": "text/x-python",
   "name": "python",
   "nbconvert_exporter": "python",
   "pygments_lexer": "ipython3",
   "version": "3.13.1"
  },
  "widgets": {
   "application/vnd.jupyter.widget-state+json": {
    "state": {},
    "version_major": 2,
    "version_minor": 0
   }
  }
 },
 "nbformat": 4,
 "nbformat_minor": 5
}
